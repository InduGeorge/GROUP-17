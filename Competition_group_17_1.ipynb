{
 "cells": [
  {
   "cell_type": "markdown",
   "id": "5eb8aa45",
   "metadata": {},
   "source": [
    "# Competition"
   ]
  },
  {
   "cell_type": "code",
   "execution_count": null,
   "id": "4849728d",
   "metadata": {},
   "outputs": [],
   "source": []
  },
  {
   "cell_type": "markdown",
   "id": "b487c8cb",
   "metadata": {},
   "source": [
    "# Brief Description of the Dataset:\n",
    "Each of the 19 activities is performed by eight subjects (4 female, 4 male, between the ages 20 and 30) for 5 minutes.\n",
    "Total signal duration is 5 minutes for each activity of each subject.\n",
    "The subjects are asked to perform the activities in their own style and were not restricted on how the activities should be performed. For this reason, there are inter-subject variations in the speeds and amplitudes of some activities.\n",
    "\n",
    "The activities are performed at the Bilkent University Sports Hall, in the Electrical and Electronics Engineering Building,and in a flat outdoor area on campus. Sensor units are calibrated to acquire data at 25 Hz sampling frequency. The 5-min signals are divided into 5-sec segments so that 480(=60x8) signal segments are obtained for each activity.\n",
    "\n",
    "The 19 activities are:\n",
    "\n",
    "sitting (A1),\n",
    "\n",
    "standing (A2),\n",
    "\n",
    "lying on back and on right side (A3 and A4),\n",
    "\n",
    "ascending and descending stairs (A5 and A6),\n",
    "\n",
    "standing in an elevator still (A7)\n",
    "\n",
    "and moving around in an elevator (A8),\n",
    "\n",
    "walking in a parking lot (A9),\n",
    "\n",
    "walking on a treadmill with a speed of 4 km/h (in flat and 15 deg inclined positions) (A1\n",
    "0 and A11),\n",
    "running on a treadmill with a speed of 8 km/h (A12),\n",
    "\n",
    "exercising on a stepper (A13),\n",
    "\n",
    "exercising on a cross trainer (A14),\n",
    "\n",
    "cycling on an exercise bike in horizontal and vertical positions (A15 and A16),\n",
    "\n",
    "rowing (A17),\n",
    "\n",
    "jumping (A18),\n",
    "\n",
    "and playing basketball (A19).\n",
    "\n",
    "File structure:\n",
    "\n",
    "19 activities (a) (in the order given above)\n",
    "\n",
    "8 subjects (p)\n",
    "\n",
    "60 segments (s)\n",
    "\n",
    "5 units on torso (T), right arm (RA), left arm (LA), right leg (RL), left leg (LL)\n",
    "\n",
    "9 sensors on each unit (x,y,z accelerometers, x,y,z gyroscopes, x,y,z magnetometers)\n",
    "\n",
    "Folders a01, a02, ..., a19 contain data recorded from the 19 activities.\n",
    "\n",
    "For each activity, the subfolders p1, p2, ..., p8 contain data from each of the 8 subjects.\n",
    "\n",
    "In each subfolder, there are 60 text files s01, s02, ..., s60, one for each segment.\n",
    "\n",
    "In each text file, there are 5 units x 9 sensors = 45 columns and 5 sec x 25 Hz = 125 rows.\n",
    "Each column contains the 125 samples of data acquired from one of the sensors of one of the units over a period of 5 sec.\n",
    "Each row contains data acquired from all of the 45 sensor axes at a particular sampling instant separated by commas.\n",
    "\n",
    "Columns 1-45 correspond to:\n",
    "\n",
    "T_xacc, T_yacc, T_zacc, T_xgyro, ..., T_ymag, T_zmag,\n",
    "\n",
    "RA_xacc, RA_yacc, RA_zacc, RA_xgyro, ..., RA_ymag, RA_zmag,\n",
    "\n",
    "LA_xacc, LA_yacc, LA_zacc, LA_xgyro, ..., LA_ymag, LA_zmag,\n",
    "\n",
    "RL_xacc, RL_yacc, RL_zacc, RL_xgyro, ..., RL_ymag, RL_zmag,\n",
    "\n",
    "LL_xacc, LL_yacc, LL_zacc, LL_xgyro, ..., LL_ymag, LL_zmag.\n",
    "\n",
    "Therefore,\n",
    "\n",
    "columns 1-9 correspond to the sensors in unit 1 (T),\n",
    "\n",
    "columns 10-18 correspond to the sensors in unit 2 (RA),\n",
    "\n",
    "columns 19-27 correspond to the sensors in unit 3 (LA),\n",
    "\n",
    "columns 28-36 correspond to the sensors in unit 4 (RL),\n",
    "\n",
    "columns 37-45 correspond to the sensors in unit 5 (LL). "
   ]
  },
  {
   "cell_type": "markdown",
   "id": "72938f2e",
   "metadata": {},
   "source": [
    "* accelerometers - an instrument for measuring the acceleration of a moving or vibrating body.\n",
    "\n",
    "* gyroscope      - a device consisting of a wheel or disc mounted so that it can spin rapidly about an axis which is \n",
    "  itself free to alter in direction. The orientation of the axis is not affected by tilting of the mounting, so \n",
    "  gyroscopes can be used to provide stability or maintain a reference direction in navigation systems,automatic pilots,\n",
    "  and stabilizers\n",
    "    \n",
    "* magnetometer   - an instrument used for measuring magnetic forces, especially the earth's magnetism"
   ]
  },
  {
   "cell_type": "markdown",
   "id": "1a3fe0cd",
   "metadata": {},
   "source": [
    "# 1.Import Packages"
   ]
  },
  {
   "cell_type": "code",
   "execution_count": 1,
   "id": "653419ba",
   "metadata": {},
   "outputs": [],
   "source": [
    "import pandas as pd\n",
    "import numpy as np\n",
    "import matplotlib.pyplot as plt\n",
    "import seaborn as sns\n",
    "import scipy.stats as stats"
   ]
  },
  {
   "cell_type": "markdown",
   "id": "2f760e80",
   "metadata": {},
   "source": [
    "# 2.Data collection and data import"
   ]
  },
  {
   "cell_type": "code",
   "execution_count": 2,
   "id": "46351ff4",
   "metadata": {},
   "outputs": [
    {
     "name": "stdout",
     "output_type": "stream",
     "text": [
      "C:/Users/anoop/OneDrive/Desktop/competition/data/data/a01\n",
      "C:/Users/anoop/OneDrive/Desktop/competition/data/data/a02\n",
      "C:/Users/anoop/OneDrive/Desktop/competition/data/data/a03\n",
      "C:/Users/anoop/OneDrive/Desktop/competition/data/data/a04\n",
      "C:/Users/anoop/OneDrive/Desktop/competition/data/data/a05\n",
      "C:/Users/anoop/OneDrive/Desktop/competition/data/data/a06\n",
      "C:/Users/anoop/OneDrive/Desktop/competition/data/data/a07\n",
      "C:/Users/anoop/OneDrive/Desktop/competition/data/data/a08\n",
      "C:/Users/anoop/OneDrive/Desktop/competition/data/data/a09\n",
      "C:/Users/anoop/OneDrive/Desktop/competition/data/data/a10\n",
      "C:/Users/anoop/OneDrive/Desktop/competition/data/data/a11\n",
      "C:/Users/anoop/OneDrive/Desktop/competition/data/data/a12\n",
      "C:/Users/anoop/OneDrive/Desktop/competition/data/data/a13\n",
      "C:/Users/anoop/OneDrive/Desktop/competition/data/data/a14\n",
      "C:/Users/anoop/OneDrive/Desktop/competition/data/data/a15\n",
      "C:/Users/anoop/OneDrive/Desktop/competition/data/data/a16\n",
      "C:/Users/anoop/OneDrive/Desktop/competition/data/data/a17\n",
      "C:/Users/anoop/OneDrive/Desktop/competition/data/data/a18\n",
      "C:/Users/anoop/OneDrive/Desktop/competition/data/data/a19\n"
     ]
    }
   ],
   "source": [
    "import glob\n",
    "\n",
    "clist = ['T_xacc', 'T_yacc', 'T_zacc', 'T_xgyro', 'T_ygyro', 'T_zgyro','T_xmag', 'T_ymag', 'T_zmag', \n",
    "         'RA_xacc', 'RA_yacc', 'RA_zacc', 'RA_xgyro', 'RA_ygyro', 'RA_zgyro','RA_xmag', 'RA_ymag', 'RA_zmag', \n",
    "         'LA_xacc', 'LA_yacc', 'LA_zacc', 'LA_xgyro', 'LA_ygyro', 'LA_zgyro','LA_xmag', 'LA_ymag', 'LA_zmag', \n",
    "         'RL_xacc', 'RL_yacc', 'RL_zacc', 'RL_xgyro', 'RL_ygyro', 'RL_zgyro','RL_xmag', 'RL_ymag', 'RL_zmag', \n",
    "         'LL_xacc', 'LL_yacc', 'LL_zacc', 'LL_xgyro', 'LL_ygyro', 'LL_zgyro','LL_xmag', 'LL_ymag', 'LL_zmag']\n",
    "\n",
    "\n",
    "li = []\n",
    "activity =['sitting','standing','lying on back side','lying on right side','Ascending stairs','Decending stairs',\n",
    "           'standing in an elevator','moving around in an elevator','walking in a parking lot',\n",
    "           'walking (4 km/h) in flat','walking (4 km/h) in 15 deg inclined','running (8 km/hr)',\n",
    "           'exercising on a stepper','exercising on a cross trainer','cycling in horizontal position',\n",
    "           'cycling in vertical position','rowing','jumping','playing basketball']\n",
    "for a in range(1,20):\n",
    "    path = 'C:/Users/anoop/OneDrive/Desktop/competition/data/data/a'+str(a).rjust(2,'0')\n",
    "    print(path)\n",
    "    for i in range(1,9):\n",
    "        path = path+'/p'+str(i) \n",
    "        all_files = glob.glob(path + \"/*.txt\")\n",
    "\n",
    "        for filename in all_files:\n",
    "            #print(filename)\n",
    "            df = pd.read_csv(filename, index_col=None, header=None)\n",
    "            df.columns=clist\n",
    "            df['Activity'] = activity[a-1]\n",
    "            li.append(df)\n",
    "\n",
    "data = pd.concat(li, axis=0, ignore_index=True)"
   ]
  },
  {
   "cell_type": "markdown",
   "id": "3dd117e2",
   "metadata": {},
   "source": [
    "# 3.Checking the basic details of the dataset"
   ]
  },
  {
   "cell_type": "code",
   "execution_count": 3,
   "id": "9423f25e",
   "metadata": {},
   "outputs": [
    {
     "data": {
      "text/html": [
       "<div>\n",
       "<style scoped>\n",
       "    .dataframe tbody tr th:only-of-type {\n",
       "        vertical-align: middle;\n",
       "    }\n",
       "\n",
       "    .dataframe tbody tr th {\n",
       "        vertical-align: top;\n",
       "    }\n",
       "\n",
       "    .dataframe thead th {\n",
       "        text-align: right;\n",
       "    }\n",
       "</style>\n",
       "<table border=\"1\" class=\"dataframe\">\n",
       "  <thead>\n",
       "    <tr style=\"text-align: right;\">\n",
       "      <th></th>\n",
       "      <th>T_xacc</th>\n",
       "      <th>T_yacc</th>\n",
       "      <th>T_zacc</th>\n",
       "      <th>T_xgyro</th>\n",
       "      <th>T_ygyro</th>\n",
       "      <th>T_zgyro</th>\n",
       "      <th>T_xmag</th>\n",
       "      <th>T_ymag</th>\n",
       "      <th>T_zmag</th>\n",
       "      <th>RA_xacc</th>\n",
       "      <th>...</th>\n",
       "      <th>LL_xacc</th>\n",
       "      <th>LL_yacc</th>\n",
       "      <th>LL_zacc</th>\n",
       "      <th>LL_xgyro</th>\n",
       "      <th>LL_ygyro</th>\n",
       "      <th>LL_zgyro</th>\n",
       "      <th>LL_xmag</th>\n",
       "      <th>LL_ymag</th>\n",
       "      <th>LL_zmag</th>\n",
       "      <th>Activity</th>\n",
       "    </tr>\n",
       "  </thead>\n",
       "  <tbody>\n",
       "    <tr>\n",
       "      <th>0</th>\n",
       "      <td>8.1305</td>\n",
       "      <td>1.0349</td>\n",
       "      <td>5.4217</td>\n",
       "      <td>-0.009461</td>\n",
       "      <td>0.001915</td>\n",
       "      <td>-0.003424</td>\n",
       "      <td>-0.78712</td>\n",
       "      <td>-0.069654</td>\n",
       "      <td>0.15730</td>\n",
       "      <td>0.70097</td>\n",
       "      <td>...</td>\n",
       "      <td>-2.8071</td>\n",
       "      <td>-9.0812</td>\n",
       "      <td>2.6220</td>\n",
       "      <td>-0.000232</td>\n",
       "      <td>-0.012092</td>\n",
       "      <td>-0.004457</td>\n",
       "      <td>0.74017</td>\n",
       "      <td>0.30053</td>\n",
       "      <td>-0.057730</td>\n",
       "      <td>sitting</td>\n",
       "    </tr>\n",
       "    <tr>\n",
       "      <th>1</th>\n",
       "      <td>8.1305</td>\n",
       "      <td>1.0202</td>\n",
       "      <td>5.3843</td>\n",
       "      <td>-0.009368</td>\n",
       "      <td>0.023485</td>\n",
       "      <td>0.001953</td>\n",
       "      <td>-0.78717</td>\n",
       "      <td>-0.068275</td>\n",
       "      <td>0.15890</td>\n",
       "      <td>0.71829</td>\n",
       "      <td>...</td>\n",
       "      <td>-2.8146</td>\n",
       "      <td>-9.0737</td>\n",
       "      <td>2.6218</td>\n",
       "      <td>-0.014784</td>\n",
       "      <td>-0.016477</td>\n",
       "      <td>0.002789</td>\n",
       "      <td>0.73937</td>\n",
       "      <td>0.30183</td>\n",
       "      <td>-0.057514</td>\n",
       "      <td>sitting</td>\n",
       "    </tr>\n",
       "    <tr>\n",
       "      <th>2</th>\n",
       "      <td>8.1604</td>\n",
       "      <td>1.0201</td>\n",
       "      <td>5.3622</td>\n",
       "      <td>0.015046</td>\n",
       "      <td>0.014330</td>\n",
       "      <td>0.000204</td>\n",
       "      <td>-0.78664</td>\n",
       "      <td>-0.068277</td>\n",
       "      <td>0.15879</td>\n",
       "      <td>0.69849</td>\n",
       "      <td>...</td>\n",
       "      <td>-2.8221</td>\n",
       "      <td>-9.0886</td>\n",
       "      <td>2.6366</td>\n",
       "      <td>-0.012770</td>\n",
       "      <td>0.005717</td>\n",
       "      <td>-0.007918</td>\n",
       "      <td>0.73955</td>\n",
       "      <td>0.30052</td>\n",
       "      <td>-0.057219</td>\n",
       "      <td>sitting</td>\n",
       "    </tr>\n",
       "    <tr>\n",
       "      <th>3</th>\n",
       "      <td>8.1603</td>\n",
       "      <td>1.0052</td>\n",
       "      <td>5.3770</td>\n",
       "      <td>0.006892</td>\n",
       "      <td>0.018045</td>\n",
       "      <td>0.005649</td>\n",
       "      <td>-0.78529</td>\n",
       "      <td>-0.069849</td>\n",
       "      <td>0.15912</td>\n",
       "      <td>0.72799</td>\n",
       "      <td>...</td>\n",
       "      <td>-2.8071</td>\n",
       "      <td>-9.0811</td>\n",
       "      <td>2.6070</td>\n",
       "      <td>-0.005725</td>\n",
       "      <td>0.009620</td>\n",
       "      <td>0.006555</td>\n",
       "      <td>0.74029</td>\n",
       "      <td>0.30184</td>\n",
       "      <td>-0.057750</td>\n",
       "      <td>sitting</td>\n",
       "    </tr>\n",
       "    <tr>\n",
       "      <th>4</th>\n",
       "      <td>8.1605</td>\n",
       "      <td>1.0275</td>\n",
       "      <td>5.3473</td>\n",
       "      <td>0.008811</td>\n",
       "      <td>0.030433</td>\n",
       "      <td>-0.005346</td>\n",
       "      <td>-0.78742</td>\n",
       "      <td>-0.068796</td>\n",
       "      <td>0.15916</td>\n",
       "      <td>0.71572</td>\n",
       "      <td>...</td>\n",
       "      <td>-2.8146</td>\n",
       "      <td>-9.0737</td>\n",
       "      <td>2.6218</td>\n",
       "      <td>-0.003929</td>\n",
       "      <td>-0.008371</td>\n",
       "      <td>0.002816</td>\n",
       "      <td>0.73845</td>\n",
       "      <td>0.30090</td>\n",
       "      <td>-0.057527</td>\n",
       "      <td>sitting</td>\n",
       "    </tr>\n",
       "  </tbody>\n",
       "</table>\n",
       "<p>5 rows × 46 columns</p>\n",
       "</div>"
      ],
      "text/plain": [
       "   T_xacc  T_yacc  T_zacc   T_xgyro   T_ygyro   T_zgyro   T_xmag    T_ymag  \\\n",
       "0  8.1305  1.0349  5.4217 -0.009461  0.001915 -0.003424 -0.78712 -0.069654   \n",
       "1  8.1305  1.0202  5.3843 -0.009368  0.023485  0.001953 -0.78717 -0.068275   \n",
       "2  8.1604  1.0201  5.3622  0.015046  0.014330  0.000204 -0.78664 -0.068277   \n",
       "3  8.1603  1.0052  5.3770  0.006892  0.018045  0.005649 -0.78529 -0.069849   \n",
       "4  8.1605  1.0275  5.3473  0.008811  0.030433 -0.005346 -0.78742 -0.068796   \n",
       "\n",
       "    T_zmag  RA_xacc  ...  LL_xacc  LL_yacc  LL_zacc  LL_xgyro  LL_ygyro  \\\n",
       "0  0.15730  0.70097  ...  -2.8071  -9.0812   2.6220 -0.000232 -0.012092   \n",
       "1  0.15890  0.71829  ...  -2.8146  -9.0737   2.6218 -0.014784 -0.016477   \n",
       "2  0.15879  0.69849  ...  -2.8221  -9.0886   2.6366 -0.012770  0.005717   \n",
       "3  0.15912  0.72799  ...  -2.8071  -9.0811   2.6070 -0.005725  0.009620   \n",
       "4  0.15916  0.71572  ...  -2.8146  -9.0737   2.6218 -0.003929 -0.008371   \n",
       "\n",
       "   LL_zgyro  LL_xmag  LL_ymag   LL_zmag  Activity  \n",
       "0 -0.004457  0.74017  0.30053 -0.057730   sitting  \n",
       "1  0.002789  0.73937  0.30183 -0.057514   sitting  \n",
       "2 -0.007918  0.73955  0.30052 -0.057219   sitting  \n",
       "3  0.006555  0.74029  0.30184 -0.057750   sitting  \n",
       "4  0.002816  0.73845  0.30090 -0.057527   sitting  \n",
       "\n",
       "[5 rows x 46 columns]"
      ]
     },
     "execution_count": 3,
     "metadata": {},
     "output_type": "execute_result"
    }
   ],
   "source": [
    "data.head()"
   ]
  },
  {
   "cell_type": "code",
   "execution_count": 4,
   "id": "28248d2f",
   "metadata": {},
   "outputs": [
    {
     "data": {
      "text/html": [
       "<div>\n",
       "<style scoped>\n",
       "    .dataframe tbody tr th:only-of-type {\n",
       "        vertical-align: middle;\n",
       "    }\n",
       "\n",
       "    .dataframe tbody tr th {\n",
       "        vertical-align: top;\n",
       "    }\n",
       "\n",
       "    .dataframe thead th {\n",
       "        text-align: right;\n",
       "    }\n",
       "</style>\n",
       "<table border=\"1\" class=\"dataframe\">\n",
       "  <thead>\n",
       "    <tr style=\"text-align: right;\">\n",
       "      <th></th>\n",
       "      <th>T_xacc</th>\n",
       "      <th>T_yacc</th>\n",
       "      <th>T_zacc</th>\n",
       "      <th>T_xgyro</th>\n",
       "      <th>T_ygyro</th>\n",
       "      <th>T_zgyro</th>\n",
       "      <th>T_xmag</th>\n",
       "      <th>T_ymag</th>\n",
       "      <th>T_zmag</th>\n",
       "      <th>RA_xacc</th>\n",
       "      <th>...</th>\n",
       "      <th>LL_xacc</th>\n",
       "      <th>LL_yacc</th>\n",
       "      <th>LL_zacc</th>\n",
       "      <th>LL_xgyro</th>\n",
       "      <th>LL_ygyro</th>\n",
       "      <th>LL_zgyro</th>\n",
       "      <th>LL_xmag</th>\n",
       "      <th>LL_ymag</th>\n",
       "      <th>LL_zmag</th>\n",
       "      <th>Activity</th>\n",
       "    </tr>\n",
       "  </thead>\n",
       "  <tbody>\n",
       "    <tr>\n",
       "      <th>142495</th>\n",
       "      <td>10.9240</td>\n",
       "      <td>-1.68840</td>\n",
       "      <td>-1.5966</td>\n",
       "      <td>0.406860</td>\n",
       "      <td>-0.89954</td>\n",
       "      <td>-0.087393</td>\n",
       "      <td>-0.89462</td>\n",
       "      <td>-0.032186</td>\n",
       "      <td>-0.47274</td>\n",
       "      <td>21.8900</td>\n",
       "      <td>...</td>\n",
       "      <td>-12.2710</td>\n",
       "      <td>-2.6286</td>\n",
       "      <td>4.66390</td>\n",
       "      <td>0.75597</td>\n",
       "      <td>0.32204</td>\n",
       "      <td>0.64580</td>\n",
       "      <td>0.59145</td>\n",
       "      <td>0.92366</td>\n",
       "      <td>0.081186</td>\n",
       "      <td>playing basketball</td>\n",
       "    </tr>\n",
       "    <tr>\n",
       "      <th>142496</th>\n",
       "      <td>10.9650</td>\n",
       "      <td>1.86380</td>\n",
       "      <td>-2.6400</td>\n",
       "      <td>0.707460</td>\n",
       "      <td>-0.93676</td>\n",
       "      <td>0.115710</td>\n",
       "      <td>-0.91256</td>\n",
       "      <td>-0.046317</td>\n",
       "      <td>-0.43934</td>\n",
       "      <td>30.3950</td>\n",
       "      <td>...</td>\n",
       "      <td>-7.5614</td>\n",
       "      <td>4.4867</td>\n",
       "      <td>-2.69310</td>\n",
       "      <td>-0.86619</td>\n",
       "      <td>0.13561</td>\n",
       "      <td>0.10515</td>\n",
       "      <td>0.59978</td>\n",
       "      <td>0.92023</td>\n",
       "      <td>0.092657</td>\n",
       "      <td>playing basketball</td>\n",
       "    </tr>\n",
       "    <tr>\n",
       "      <th>142497</th>\n",
       "      <td>11.9380</td>\n",
       "      <td>3.30380</td>\n",
       "      <td>-1.6087</td>\n",
       "      <td>0.084079</td>\n",
       "      <td>-0.79710</td>\n",
       "      <td>-0.142730</td>\n",
       "      <td>-0.93514</td>\n",
       "      <td>-0.061046</td>\n",
       "      <td>-0.39099</td>\n",
       "      <td>13.2480</td>\n",
       "      <td>...</td>\n",
       "      <td>-11.9110</td>\n",
       "      <td>5.8818</td>\n",
       "      <td>-2.77030</td>\n",
       "      <td>-0.56303</td>\n",
       "      <td>0.86933</td>\n",
       "      <td>0.72627</td>\n",
       "      <td>0.61198</td>\n",
       "      <td>0.90992</td>\n",
       "      <td>0.146550</td>\n",
       "      <td>playing basketball</td>\n",
       "    </tr>\n",
       "    <tr>\n",
       "      <th>142498</th>\n",
       "      <td>9.3892</td>\n",
       "      <td>-0.21785</td>\n",
       "      <td>-5.0379</td>\n",
       "      <td>-0.282580</td>\n",
       "      <td>-0.70951</td>\n",
       "      <td>0.331910</td>\n",
       "      <td>-0.94844</td>\n",
       "      <td>-0.060004</td>\n",
       "      <td>-0.35699</td>\n",
       "      <td>7.7157</td>\n",
       "      <td>...</td>\n",
       "      <td>-9.7683</td>\n",
       "      <td>-3.6667</td>\n",
       "      <td>-0.89959</td>\n",
       "      <td>0.69327</td>\n",
       "      <td>0.42848</td>\n",
       "      <td>0.88429</td>\n",
       "      <td>0.64304</td>\n",
       "      <td>0.89064</td>\n",
       "      <td>0.144460</td>\n",
       "      <td>playing basketball</td>\n",
       "    </tr>\n",
       "    <tr>\n",
       "      <th>142499</th>\n",
       "      <td>9.0513</td>\n",
       "      <td>-1.79030</td>\n",
       "      <td>-3.8570</td>\n",
       "      <td>1.743600</td>\n",
       "      <td>1.18800</td>\n",
       "      <td>-0.333790</td>\n",
       "      <td>-0.93709</td>\n",
       "      <td>-0.068852</td>\n",
       "      <td>-0.38543</td>\n",
       "      <td>2.9816</td>\n",
       "      <td>...</td>\n",
       "      <td>-12.0130</td>\n",
       "      <td>-4.0103</td>\n",
       "      <td>2.09460</td>\n",
       "      <td>-0.12077</td>\n",
       "      <td>0.22280</td>\n",
       "      <td>0.76840</td>\n",
       "      <td>0.66904</td>\n",
       "      <td>0.87302</td>\n",
       "      <td>0.142560</td>\n",
       "      <td>playing basketball</td>\n",
       "    </tr>\n",
       "  </tbody>\n",
       "</table>\n",
       "<p>5 rows × 46 columns</p>\n",
       "</div>"
      ],
      "text/plain": [
       "         T_xacc   T_yacc  T_zacc   T_xgyro  T_ygyro   T_zgyro   T_xmag  \\\n",
       "142495  10.9240 -1.68840 -1.5966  0.406860 -0.89954 -0.087393 -0.89462   \n",
       "142496  10.9650  1.86380 -2.6400  0.707460 -0.93676  0.115710 -0.91256   \n",
       "142497  11.9380  3.30380 -1.6087  0.084079 -0.79710 -0.142730 -0.93514   \n",
       "142498   9.3892 -0.21785 -5.0379 -0.282580 -0.70951  0.331910 -0.94844   \n",
       "142499   9.0513 -1.79030 -3.8570  1.743600  1.18800 -0.333790 -0.93709   \n",
       "\n",
       "          T_ymag   T_zmag  RA_xacc  ...  LL_xacc  LL_yacc  LL_zacc  LL_xgyro  \\\n",
       "142495 -0.032186 -0.47274  21.8900  ... -12.2710  -2.6286  4.66390   0.75597   \n",
       "142496 -0.046317 -0.43934  30.3950  ...  -7.5614   4.4867 -2.69310  -0.86619   \n",
       "142497 -0.061046 -0.39099  13.2480  ... -11.9110   5.8818 -2.77030  -0.56303   \n",
       "142498 -0.060004 -0.35699   7.7157  ...  -9.7683  -3.6667 -0.89959   0.69327   \n",
       "142499 -0.068852 -0.38543   2.9816  ... -12.0130  -4.0103  2.09460  -0.12077   \n",
       "\n",
       "        LL_ygyro  LL_zgyro  LL_xmag  LL_ymag   LL_zmag            Activity  \n",
       "142495   0.32204   0.64580  0.59145  0.92366  0.081186  playing basketball  \n",
       "142496   0.13561   0.10515  0.59978  0.92023  0.092657  playing basketball  \n",
       "142497   0.86933   0.72627  0.61198  0.90992  0.146550  playing basketball  \n",
       "142498   0.42848   0.88429  0.64304  0.89064  0.144460  playing basketball  \n",
       "142499   0.22280   0.76840  0.66904  0.87302  0.142560  playing basketball  \n",
       "\n",
       "[5 rows x 46 columns]"
      ]
     },
     "execution_count": 4,
     "metadata": {},
     "output_type": "execute_result"
    }
   ],
   "source": [
    "data.tail()"
   ]
  },
  {
   "cell_type": "code",
   "execution_count": 5,
   "id": "2d1adf0b",
   "metadata": {},
   "outputs": [
    {
     "data": {
      "text/plain": [
       "(142500, 46)"
      ]
     },
     "execution_count": 5,
     "metadata": {},
     "output_type": "execute_result"
    }
   ],
   "source": [
    "data.shape"
   ]
  },
  {
   "cell_type": "code",
   "execution_count": 6,
   "id": "57c63374",
   "metadata": {},
   "outputs": [
    {
     "name": "stdout",
     "output_type": "stream",
     "text": [
      "<class 'pandas.core.frame.DataFrame'>\n",
      "RangeIndex: 142500 entries, 0 to 142499\n",
      "Data columns (total 46 columns):\n",
      " #   Column    Non-Null Count   Dtype  \n",
      "---  ------    --------------   -----  \n",
      " 0   T_xacc    142500 non-null  float64\n",
      " 1   T_yacc    142500 non-null  float64\n",
      " 2   T_zacc    142500 non-null  float64\n",
      " 3   T_xgyro   142500 non-null  float64\n",
      " 4   T_ygyro   142500 non-null  float64\n",
      " 5   T_zgyro   142500 non-null  float64\n",
      " 6   T_xmag    142500 non-null  float64\n",
      " 7   T_ymag    142500 non-null  float64\n",
      " 8   T_zmag    142500 non-null  float64\n",
      " 9   RA_xacc   142500 non-null  float64\n",
      " 10  RA_yacc   142500 non-null  float64\n",
      " 11  RA_zacc   142500 non-null  float64\n",
      " 12  RA_xgyro  142500 non-null  float64\n",
      " 13  RA_ygyro  142500 non-null  float64\n",
      " 14  RA_zgyro  142500 non-null  float64\n",
      " 15  RA_xmag   142500 non-null  float64\n",
      " 16  RA_ymag   142500 non-null  float64\n",
      " 17  RA_zmag   142500 non-null  float64\n",
      " 18  LA_xacc   142500 non-null  float64\n",
      " 19  LA_yacc   142500 non-null  float64\n",
      " 20  LA_zacc   142500 non-null  float64\n",
      " 21  LA_xgyro  142500 non-null  float64\n",
      " 22  LA_ygyro  142500 non-null  float64\n",
      " 23  LA_zgyro  142500 non-null  float64\n",
      " 24  LA_xmag   142500 non-null  float64\n",
      " 25  LA_ymag   142500 non-null  float64\n",
      " 26  LA_zmag   142500 non-null  float64\n",
      " 27  RL_xacc   142500 non-null  float64\n",
      " 28  RL_yacc   142500 non-null  float64\n",
      " 29  RL_zacc   142500 non-null  float64\n",
      " 30  RL_xgyro  142500 non-null  float64\n",
      " 31  RL_ygyro  142500 non-null  float64\n",
      " 32  RL_zgyro  142500 non-null  float64\n",
      " 33  RL_xmag   142500 non-null  float64\n",
      " 34  RL_ymag   142500 non-null  float64\n",
      " 35  RL_zmag   142500 non-null  float64\n",
      " 36  LL_xacc   142500 non-null  float64\n",
      " 37  LL_yacc   142500 non-null  float64\n",
      " 38  LL_zacc   142500 non-null  float64\n",
      " 39  LL_xgyro  142500 non-null  float64\n",
      " 40  LL_ygyro  142500 non-null  float64\n",
      " 41  LL_zgyro  142500 non-null  float64\n",
      " 42  LL_xmag   142500 non-null  float64\n",
      " 43  LL_ymag   142500 non-null  float64\n",
      " 44  LL_zmag   142500 non-null  float64\n",
      " 45  Activity  142500 non-null  object \n",
      "dtypes: float64(45), object(1)\n",
      "memory usage: 50.0+ MB\n"
     ]
    }
   ],
   "source": [
    "data.info()"
   ]
  },
  {
   "cell_type": "code",
   "execution_count": 7,
   "id": "e9a04970",
   "metadata": {},
   "outputs": [
    {
     "data": {
      "text/html": [
       "<div>\n",
       "<style scoped>\n",
       "    .dataframe tbody tr th:only-of-type {\n",
       "        vertical-align: middle;\n",
       "    }\n",
       "\n",
       "    .dataframe tbody tr th {\n",
       "        vertical-align: top;\n",
       "    }\n",
       "\n",
       "    .dataframe thead th {\n",
       "        text-align: right;\n",
       "    }\n",
       "</style>\n",
       "<table border=\"1\" class=\"dataframe\">\n",
       "  <thead>\n",
       "    <tr style=\"text-align: right;\">\n",
       "      <th></th>\n",
       "      <th>T_xacc</th>\n",
       "      <th>T_yacc</th>\n",
       "      <th>T_zacc</th>\n",
       "      <th>T_xgyro</th>\n",
       "      <th>T_ygyro</th>\n",
       "      <th>T_zgyro</th>\n",
       "      <th>T_xmag</th>\n",
       "      <th>T_ymag</th>\n",
       "      <th>T_zmag</th>\n",
       "      <th>RA_xacc</th>\n",
       "      <th>...</th>\n",
       "      <th>RL_zmag</th>\n",
       "      <th>LL_xacc</th>\n",
       "      <th>LL_yacc</th>\n",
       "      <th>LL_zacc</th>\n",
       "      <th>LL_xgyro</th>\n",
       "      <th>LL_ygyro</th>\n",
       "      <th>LL_zgyro</th>\n",
       "      <th>LL_xmag</th>\n",
       "      <th>LL_ymag</th>\n",
       "      <th>LL_zmag</th>\n",
       "    </tr>\n",
       "  </thead>\n",
       "  <tbody>\n",
       "    <tr>\n",
       "      <th>count</th>\n",
       "      <td>142500.000000</td>\n",
       "      <td>142500.000000</td>\n",
       "      <td>142500.000000</td>\n",
       "      <td>142500.000000</td>\n",
       "      <td>142500.000000</td>\n",
       "      <td>142500.000000</td>\n",
       "      <td>142500.000000</td>\n",
       "      <td>142500.000000</td>\n",
       "      <td>142500.000000</td>\n",
       "      <td>142500.000000</td>\n",
       "      <td>...</td>\n",
       "      <td>142500.000000</td>\n",
       "      <td>142500.000000</td>\n",
       "      <td>142500.000000</td>\n",
       "      <td>142500.000000</td>\n",
       "      <td>142500.000000</td>\n",
       "      <td>142500.000000</td>\n",
       "      <td>142500.000000</td>\n",
       "      <td>142500.000000</td>\n",
       "      <td>142500.000000</td>\n",
       "      <td>142500.000000</td>\n",
       "    </tr>\n",
       "    <tr>\n",
       "      <th>mean</th>\n",
       "      <td>7.674666</td>\n",
       "      <td>-0.098671</td>\n",
       "      <td>3.767543</td>\n",
       "      <td>-0.006260</td>\n",
       "      <td>0.012471</td>\n",
       "      <td>-0.001569</td>\n",
       "      <td>-0.572268</td>\n",
       "      <td>-0.007060</td>\n",
       "      <td>-0.383496</td>\n",
       "      <td>2.924684</td>\n",
       "      <td>...</td>\n",
       "      <td>0.003542</td>\n",
       "      <td>-7.363631</td>\n",
       "      <td>-3.305088</td>\n",
       "      <td>0.310282</td>\n",
       "      <td>-0.018433</td>\n",
       "      <td>0.014556</td>\n",
       "      <td>-0.007976</td>\n",
       "      <td>0.424897</td>\n",
       "      <td>0.342584</td>\n",
       "      <td>-0.015896</td>\n",
       "    </tr>\n",
       "    <tr>\n",
       "      <th>std</th>\n",
       "      <td>5.630315</td>\n",
       "      <td>2.402581</td>\n",
       "      <td>2.909811</td>\n",
       "      <td>0.889036</td>\n",
       "      <td>0.836931</td>\n",
       "      <td>0.359432</td>\n",
       "      <td>0.291090</td>\n",
       "      <td>0.315200</td>\n",
       "      <td>0.352919</td>\n",
       "      <td>5.146268</td>\n",
       "      <td>...</td>\n",
       "      <td>0.324464</td>\n",
       "      <td>5.932486</td>\n",
       "      <td>6.346880</td>\n",
       "      <td>2.938506</td>\n",
       "      <td>0.836230</td>\n",
       "      <td>0.434831</td>\n",
       "      <td>1.215209</td>\n",
       "      <td>0.301136</td>\n",
       "      <td>0.327792</td>\n",
       "      <td>0.324900</td>\n",
       "    </tr>\n",
       "    <tr>\n",
       "      <th>min</th>\n",
       "      <td>-99.715000</td>\n",
       "      <td>-49.941000</td>\n",
       "      <td>-50.677000</td>\n",
       "      <td>-25.579000</td>\n",
       "      <td>-23.598000</td>\n",
       "      <td>-8.498900</td>\n",
       "      <td>-1.051000</td>\n",
       "      <td>-0.742470</td>\n",
       "      <td>-1.034500</td>\n",
       "      <td>-30.019000</td>\n",
       "      <td>...</td>\n",
       "      <td>-0.886080</td>\n",
       "      <td>-93.940000</td>\n",
       "      <td>-95.898000</td>\n",
       "      <td>-30.854000</td>\n",
       "      <td>-8.929700</td>\n",
       "      <td>-4.623400</td>\n",
       "      <td>-6.138300</td>\n",
       "      <td>-0.647270</td>\n",
       "      <td>-0.850280</td>\n",
       "      <td>-1.126000</td>\n",
       "    </tr>\n",
       "    <tr>\n",
       "      <th>25%</th>\n",
       "      <td>6.778350</td>\n",
       "      <td>-0.611113</td>\n",
       "      <td>2.360975</td>\n",
       "      <td>-0.161230</td>\n",
       "      <td>-0.116583</td>\n",
       "      <td>-0.088415</td>\n",
       "      <td>-0.790360</td>\n",
       "      <td>-0.205782</td>\n",
       "      <td>-0.703703</td>\n",
       "      <td>-0.613252</td>\n",
       "      <td>...</td>\n",
       "      <td>-0.249092</td>\n",
       "      <td>-9.893600</td>\n",
       "      <td>-8.509900</td>\n",
       "      <td>-0.995045</td>\n",
       "      <td>-0.320802</td>\n",
       "      <td>-0.097239</td>\n",
       "      <td>-0.447805</td>\n",
       "      <td>0.268170</td>\n",
       "      <td>0.136028</td>\n",
       "      <td>-0.339898</td>\n",
       "    </tr>\n",
       "    <tr>\n",
       "      <th>50%</th>\n",
       "      <td>8.437900</td>\n",
       "      <td>0.253460</td>\n",
       "      <td>3.720800</td>\n",
       "      <td>0.000000</td>\n",
       "      <td>0.015423</td>\n",
       "      <td>-0.002445</td>\n",
       "      <td>-0.653210</td>\n",
       "      <td>-0.076862</td>\n",
       "      <td>-0.464780</td>\n",
       "      <td>3.361200</td>\n",
       "      <td>...</td>\n",
       "      <td>-0.004469</td>\n",
       "      <td>-8.810400</td>\n",
       "      <td>-2.534650</td>\n",
       "      <td>-0.136190</td>\n",
       "      <td>-0.003309</td>\n",
       "      <td>0.000878</td>\n",
       "      <td>-0.000684</td>\n",
       "      <td>0.441100</td>\n",
       "      <td>0.379330</td>\n",
       "      <td>0.012582</td>\n",
       "    </tr>\n",
       "    <tr>\n",
       "      <th>75%</th>\n",
       "      <td>9.410500</td>\n",
       "      <td>1.222025</td>\n",
       "      <td>5.259300</td>\n",
       "      <td>0.172893</td>\n",
       "      <td>0.184522</td>\n",
       "      <td>0.084597</td>\n",
       "      <td>-0.455350</td>\n",
       "      <td>0.267000</td>\n",
       "      <td>-0.084659</td>\n",
       "      <td>7.045900</td>\n",
       "      <td>...</td>\n",
       "      <td>0.286225</td>\n",
       "      <td>-2.769275</td>\n",
       "      <td>0.290587</td>\n",
       "      <td>1.065800</td>\n",
       "      <td>0.211375</td>\n",
       "      <td>0.118953</td>\n",
       "      <td>0.538838</td>\n",
       "      <td>0.647650</td>\n",
       "      <td>0.568700</td>\n",
       "      <td>0.157010</td>\n",
       "    </tr>\n",
       "    <tr>\n",
       "      <th>max</th>\n",
       "      <td>70.835000</td>\n",
       "      <td>23.300000</td>\n",
       "      <td>54.551000</td>\n",
       "      <td>27.671000</td>\n",
       "      <td>14.379000</td>\n",
       "      <td>19.262000</td>\n",
       "      <td>1.021500</td>\n",
       "      <td>1.019000</td>\n",
       "      <td>0.963390</td>\n",
       "      <td>70.029000</td>\n",
       "      <td>...</td>\n",
       "      <td>0.852120</td>\n",
       "      <td>11.577000</td>\n",
       "      <td>62.912000</td>\n",
       "      <td>33.062000</td>\n",
       "      <td>10.381000</td>\n",
       "      <td>7.514900</td>\n",
       "      <td>5.907600</td>\n",
       "      <td>1.127200</td>\n",
       "      <td>1.037100</td>\n",
       "      <td>0.806770</td>\n",
       "    </tr>\n",
       "  </tbody>\n",
       "</table>\n",
       "<p>8 rows × 45 columns</p>\n",
       "</div>"
      ],
      "text/plain": [
       "              T_xacc         T_yacc         T_zacc        T_xgyro  \\\n",
       "count  142500.000000  142500.000000  142500.000000  142500.000000   \n",
       "mean        7.674666      -0.098671       3.767543      -0.006260   \n",
       "std         5.630315       2.402581       2.909811       0.889036   \n",
       "min       -99.715000     -49.941000     -50.677000     -25.579000   \n",
       "25%         6.778350      -0.611113       2.360975      -0.161230   \n",
       "50%         8.437900       0.253460       3.720800       0.000000   \n",
       "75%         9.410500       1.222025       5.259300       0.172893   \n",
       "max        70.835000      23.300000      54.551000      27.671000   \n",
       "\n",
       "             T_ygyro        T_zgyro         T_xmag         T_ymag  \\\n",
       "count  142500.000000  142500.000000  142500.000000  142500.000000   \n",
       "mean        0.012471      -0.001569      -0.572268      -0.007060   \n",
       "std         0.836931       0.359432       0.291090       0.315200   \n",
       "min       -23.598000      -8.498900      -1.051000      -0.742470   \n",
       "25%        -0.116583      -0.088415      -0.790360      -0.205782   \n",
       "50%         0.015423      -0.002445      -0.653210      -0.076862   \n",
       "75%         0.184522       0.084597      -0.455350       0.267000   \n",
       "max        14.379000      19.262000       1.021500       1.019000   \n",
       "\n",
       "              T_zmag        RA_xacc  ...        RL_zmag        LL_xacc  \\\n",
       "count  142500.000000  142500.000000  ...  142500.000000  142500.000000   \n",
       "mean       -0.383496       2.924684  ...       0.003542      -7.363631   \n",
       "std         0.352919       5.146268  ...       0.324464       5.932486   \n",
       "min        -1.034500     -30.019000  ...      -0.886080     -93.940000   \n",
       "25%        -0.703703      -0.613252  ...      -0.249092      -9.893600   \n",
       "50%        -0.464780       3.361200  ...      -0.004469      -8.810400   \n",
       "75%        -0.084659       7.045900  ...       0.286225      -2.769275   \n",
       "max         0.963390      70.029000  ...       0.852120      11.577000   \n",
       "\n",
       "             LL_yacc        LL_zacc       LL_xgyro       LL_ygyro  \\\n",
       "count  142500.000000  142500.000000  142500.000000  142500.000000   \n",
       "mean       -3.305088       0.310282      -0.018433       0.014556   \n",
       "std         6.346880       2.938506       0.836230       0.434831   \n",
       "min       -95.898000     -30.854000      -8.929700      -4.623400   \n",
       "25%        -8.509900      -0.995045      -0.320802      -0.097239   \n",
       "50%        -2.534650      -0.136190      -0.003309       0.000878   \n",
       "75%         0.290587       1.065800       0.211375       0.118953   \n",
       "max        62.912000      33.062000      10.381000       7.514900   \n",
       "\n",
       "            LL_zgyro        LL_xmag        LL_ymag        LL_zmag  \n",
       "count  142500.000000  142500.000000  142500.000000  142500.000000  \n",
       "mean       -0.007976       0.424897       0.342584      -0.015896  \n",
       "std         1.215209       0.301136       0.327792       0.324900  \n",
       "min        -6.138300      -0.647270      -0.850280      -1.126000  \n",
       "25%        -0.447805       0.268170       0.136028      -0.339898  \n",
       "50%        -0.000684       0.441100       0.379330       0.012582  \n",
       "75%         0.538838       0.647650       0.568700       0.157010  \n",
       "max         5.907600       1.127200       1.037100       0.806770  \n",
       "\n",
       "[8 rows x 45 columns]"
      ]
     },
     "execution_count": 7,
     "metadata": {},
     "output_type": "execute_result"
    }
   ],
   "source": [
    "data.describe()"
   ]
  },
  {
   "cell_type": "markdown",
   "id": "1bf25e7f",
   "metadata": {},
   "source": [
    "# 4.Checking for the missing values"
   ]
  },
  {
   "cell_type": "code",
   "execution_count": 8,
   "id": "86382182",
   "metadata": {},
   "outputs": [
    {
     "data": {
      "text/plain": [
       "rowing                                 7500\n",
       "Decending stairs                       7500\n",
       "lying on right side                    7500\n",
       "jumping                                7500\n",
       "walking (4 km/h) in flat               7500\n",
       "lying on back side                     7500\n",
       "cycling in vertical position           7500\n",
       "playing basketball                     7500\n",
       "standing in an elevator                7500\n",
       "exercising on a stepper                7500\n",
       "exercising on a cross trainer          7500\n",
       "walking (4 km/h) in 15 deg inclined    7500\n",
       "sitting                                7500\n",
       "walking in a parking lot               7500\n",
       "Ascending stairs                       7500\n",
       "moving around in an elevator           7500\n",
       "cycling in horizontal position         7500\n",
       "running (8 km/hr)                      7500\n",
       "standing                               7500\n",
       "Name: Activity, dtype: int64"
      ]
     },
     "execution_count": 8,
     "metadata": {},
     "output_type": "execute_result"
    }
   ],
   "source": [
    "data['Activity']. value_counts()"
   ]
  },
  {
   "cell_type": "code",
   "execution_count": 9,
   "id": "ff69202a",
   "metadata": {},
   "outputs": [
    {
     "data": {
      "text/plain": [
       "T_xacc      0\n",
       "T_yacc      0\n",
       "T_zacc      0\n",
       "T_xgyro     0\n",
       "T_ygyro     0\n",
       "T_zgyro     0\n",
       "T_xmag      0\n",
       "T_ymag      0\n",
       "T_zmag      0\n",
       "RA_xacc     0\n",
       "RA_yacc     0\n",
       "RA_zacc     0\n",
       "RA_xgyro    0\n",
       "RA_ygyro    0\n",
       "RA_zgyro    0\n",
       "RA_xmag     0\n",
       "RA_ymag     0\n",
       "RA_zmag     0\n",
       "LA_xacc     0\n",
       "LA_yacc     0\n",
       "LA_zacc     0\n",
       "LA_xgyro    0\n",
       "LA_ygyro    0\n",
       "LA_zgyro    0\n",
       "LA_xmag     0\n",
       "LA_ymag     0\n",
       "LA_zmag     0\n",
       "RL_xacc     0\n",
       "RL_yacc     0\n",
       "RL_zacc     0\n",
       "RL_xgyro    0\n",
       "RL_ygyro    0\n",
       "RL_zgyro    0\n",
       "RL_xmag     0\n",
       "RL_ymag     0\n",
       "RL_zmag     0\n",
       "LL_xacc     0\n",
       "LL_yacc     0\n",
       "LL_zacc     0\n",
       "LL_xgyro    0\n",
       "LL_ygyro    0\n",
       "LL_zgyro    0\n",
       "LL_xmag     0\n",
       "LL_ymag     0\n",
       "LL_zmag     0\n",
       "Activity    0\n",
       "dtype: int64"
      ]
     },
     "execution_count": 9,
     "metadata": {},
     "output_type": "execute_result"
    }
   ],
   "source": [
    "data.isna().sum()"
   ]
  },
  {
   "cell_type": "markdown",
   "id": "77fd46a2",
   "metadata": {},
   "source": [
    "Missing values are found in the columns T_zgyro,T_ymag and RA_yacc      "
   ]
  },
  {
   "cell_type": "markdown",
   "id": "59a5080a",
   "metadata": {},
   "source": [
    "# Handling the missing values"
   ]
  },
  {
   "cell_type": "code",
   "execution_count": 10,
   "id": "ec2ebeb5",
   "metadata": {},
   "outputs": [
    {
     "data": {
      "image/png": "[encoded data removed]",
      "text/plain": [
       "<Figure size 576x576 with 1 Axes>"
      ]
     },
     "metadata": {
      "needs_background": "light"
     },
     "output_type": "display_data"
    },
    {
     "data": {
      "image/png": "[encoded data removed]",
      "text/plain": [
       "<Figure size 576x576 with 1 Axes>"
      ]
     },
     "metadata": {
      "needs_background": "light"
     },
     "output_type": "display_data"
    },
    {
     "data": {
      "image/png": "[encoded data removed]",
      "text/plain": [
       "<Figure size 576x576 with 1 Axes>"
      ]
     },
     "metadata": {
      "needs_background": "light"
     },
     "output_type": "display_data"
    }
   ],
   "source": [
    "#checking the skewness of T_zgyro and T_ymag \n",
    "plt.figure(figsize=(8,8))\n",
    "plt.subplot(3,1,1)\n",
    "plt.hist(data['T_zgyro'])\n",
    "plt.title('Histogram of T_zgyro')\n",
    "plt.show()\n",
    "plt.figure(figsize=(8,8))\n",
    "plt.subplot(3,1,2)\n",
    "plt.hist(data['T_ymag'])\n",
    "plt.title('Histogram of T_ymag')\n",
    "plt.show()\n",
    "plt.figure(figsize=(8,8))\n",
    "plt.subplot(3,1,3)\n",
    "plt.hist(data['RA_yacc'])\n",
    "plt.title('Histogram of RA_yacc')\n",
    "plt.show()"
   ]
  },
  {
   "cell_type": "markdown",
   "id": "d18e3e9d",
   "metadata": {},
   "source": [
    "Both the histograms are right skewed.So we can fill the missing values with  median"
   ]
  },
  {
   "cell_type": "code",
   "execution_count": 11,
   "id": "cd78ba41",
   "metadata": {},
   "outputs": [],
   "source": [
    "data['T_zgyro']=data['T_zgyro'].fillna(data['T_zgyro'].median())\n",
    "data['T_ymag']=data['T_ymag'].fillna(data['T_ymag'].median())\n",
    "data['RA_yacc']=data['RA_yacc'].fillna(data['RA_yacc'].median())"
   ]
  },
  {
   "cell_type": "code",
   "execution_count": 12,
   "id": "ce5397c2",
   "metadata": {},
   "outputs": [
    {
     "data": {
      "text/plain": [
       "T_xacc      0\n",
       "T_yacc      0\n",
       "T_zacc      0\n",
       "T_xgyro     0\n",
       "T_ygyro     0\n",
       "T_zgyro     0\n",
       "T_xmag      0\n",
       "T_ymag      0\n",
       "T_zmag      0\n",
       "RA_xacc     0\n",
       "RA_yacc     0\n",
       "RA_zacc     0\n",
       "RA_xgyro    0\n",
       "RA_ygyro    0\n",
       "RA_zgyro    0\n",
       "RA_xmag     0\n",
       "RA_ymag     0\n",
       "RA_zmag     0\n",
       "LA_xacc     0\n",
       "LA_yacc     0\n",
       "LA_zacc     0\n",
       "LA_xgyro    0\n",
       "LA_ygyro    0\n",
       "LA_zgyro    0\n",
       "LA_xmag     0\n",
       "LA_ymag     0\n",
       "LA_zmag     0\n",
       "RL_xacc     0\n",
       "RL_yacc     0\n",
       "RL_zacc     0\n",
       "RL_xgyro    0\n",
       "RL_ygyro    0\n",
       "RL_zgyro    0\n",
       "RL_xmag     0\n",
       "RL_ymag     0\n",
       "RL_zmag     0\n",
       "LL_xacc     0\n",
       "LL_yacc     0\n",
       "LL_zacc     0\n",
       "LL_xgyro    0\n",
       "LL_ygyro    0\n",
       "LL_zgyro    0\n",
       "LL_xmag     0\n",
       "LL_ymag     0\n",
       "LL_zmag     0\n",
       "Activity    0\n",
       "dtype: int64"
      ]
     },
     "execution_count": 12,
     "metadata": {},
     "output_type": "execute_result"
    }
   ],
   "source": [
    "data.isna().sum()"
   ]
  },
  {
   "cell_type": "markdown",
   "id": "7a0c5f54",
   "metadata": {},
   "source": [
    "# 6.Checking and handling outliers in dataset"
   ]
  },
  {
   "cell_type": "code",
   "execution_count": 13,
   "id": "3f822ff7",
   "metadata": {},
   "outputs": [
    {
     "data": {
      "text/plain": [
       "(array([ 1,  2,  3,  4,  5,  6,  7,  8,  9, 10, 11, 12, 13, 14, 15, 16, 17,\n",
       "        18, 19, 20, 21, 22, 23, 24, 25, 26, 27, 28, 29, 30, 31, 32, 33, 34,\n",
       "        35, 36, 37, 38, 39, 40, 41, 42, 43, 44, 45]),\n",
       " [Text(1, 0, 'T_xacc'),\n",
       "  Text(2, 0, 'T_yacc'),\n",
       "  Text(3, 0, 'T_zacc'),\n",
       "  Text(4, 0, 'T_xgyro'),\n",
       "  Text(5, 0, 'T_ygyro'),\n",
       "  Text(6, 0, 'T_zgyro'),\n",
       "  Text(7, 0, 'T_xmag'),\n",
       "  Text(8, 0, 'T_ymag'),\n",
       "  Text(9, 0, 'T_zmag'),\n",
       "  Text(10, 0, 'RA_xacc'),\n",
       "  Text(11, 0, 'RA_yacc'),\n",
       "  Text(12, 0, 'RA_zacc'),\n",
       "  Text(13, 0, 'RA_xgyro'),\n",
       "  Text(14, 0, 'RA_ygyro'),\n",
       "  Text(15, 0, 'RA_zgyro'),\n",
       "  Text(16, 0, 'RA_xmag'),\n",
       "  Text(17, 0, 'RA_ymag'),\n",
       "  Text(18, 0, 'RA_zmag'),\n",
       "  Text(19, 0, 'LA_xacc'),\n",
       "  Text(20, 0, 'LA_yacc'),\n",
       "  Text(21, 0, 'LA_zacc'),\n",
       "  Text(22, 0, 'LA_xgyro'),\n",
       "  Text(23, 0, 'LA_ygyro'),\n",
       "  Text(24, 0, 'LA_zgyro'),\n",
       "  Text(25, 0, 'LA_xmag'),\n",
       "  Text(26, 0, 'LA_ymag'),\n",
       "  Text(27, 0, 'LA_zmag'),\n",
       "  Text(28, 0, 'RL_xacc'),\n",
       "  Text(29, 0, 'RL_yacc'),\n",
       "  Text(30, 0, 'RL_zacc'),\n",
       "  Text(31, 0, 'RL_xgyro'),\n",
       "  Text(32, 0, 'RL_ygyro'),\n",
       "  Text(33, 0, 'RL_zgyro'),\n",
       "  Text(34, 0, 'RL_xmag'),\n",
       "  Text(35, 0, 'RL_ymag'),\n",
       "  Text(36, 0, 'RL_zmag'),\n",
       "  Text(37, 0, 'LL_xacc'),\n",
       "  Text(38, 0, 'LL_yacc'),\n",
       "  Text(39, 0, 'LL_zacc'),\n",
       "  Text(40, 0, 'LL_xgyro'),\n",
       "  Text(41, 0, 'LL_ygyro'),\n",
       "  Text(42, 0, 'LL_zgyro'),\n",
       "  Text(43, 0, 'LL_xmag'),\n",
       "  Text(44, 0, 'LL_ymag'),\n",
       "  Text(45, 0, 'LL_zmag')])"
      ]
     },
     "execution_count": 13,
     "metadata": {},
     "output_type": "execute_result"
    },
    {
     "data": {
      "image/png": "[encoded data removed]",
      "text/plain": [
       "<Figure size 1080x1080 with 1 Axes>"
      ]
     },
     "metadata": {
      "needs_background": "light"
     },
     "output_type": "display_data"
    }
   ],
   "source": [
    "#we will check the presence of outlier using boxplot\n",
    "plt.figure(figsize=(15,15))\n",
    "data.boxplot()\n",
    "plt.xticks(rotation=90)"
   ]
  },
  {
   "cell_type": "code",
   "execution_count": 14,
   "id": "70dfce6e",
   "metadata": {},
   "outputs": [
    {
     "data": {
      "text/plain": [
       "Index(['T_xacc', 'T_yacc', 'T_zacc', 'T_xgyro', 'T_ygyro', 'T_zgyro', 'T_xmag',\n",
       "       'T_ymag', 'T_zmag', 'RA_xacc', 'RA_yacc', 'RA_zacc', 'RA_xgyro',\n",
       "       'RA_ygyro', 'RA_zgyro', 'RA_xmag', 'RA_ymag', 'RA_zmag', 'LA_xacc',\n",
       "       'LA_yacc', 'LA_zacc', 'LA_xgyro', 'LA_ygyro', 'LA_zgyro', 'LA_xmag',\n",
       "       'LA_ymag', 'LA_zmag', 'RL_xacc', 'RL_yacc', 'RL_zacc', 'RL_xgyro',\n",
       "       'RL_ygyro', 'RL_zgyro', 'RL_xmag', 'RL_ymag', 'RL_zmag', 'LL_xacc',\n",
       "       'LL_yacc', 'LL_zacc', 'LL_xgyro', 'LL_ygyro', 'LL_zgyro', 'LL_xmag',\n",
       "       'LL_ymag', 'LL_zmag', 'Activity'],\n",
       "      dtype='object')"
      ]
     },
     "execution_count": 14,
     "metadata": {},
     "output_type": "execute_result"
    }
   ],
   "source": [
    "data.columns"
   ]
  },
  {
   "cell_type": "markdown",
   "id": "d8dea32a",
   "metadata": {},
   "source": [
    "Case1:T_xacc"
   ]
  },
  {
   "cell_type": "code",
   "execution_count": 15,
   "id": "6e0c2c3b",
   "metadata": {},
   "outputs": [
    {
     "data": {
      "image/png": "[encoded data removed]",
      "text/plain": [
       "<Figure size 360x360 with 1 Axes>"
      ]
     },
     "metadata": {
      "needs_background": "light"
     },
     "output_type": "display_data"
    }
   ],
   "source": [
    "#we will check the presence of outlier using boxplot\n",
    "plt.figure(figsize=(5,5))\n",
    "plt.boxplot(data['T_xacc'])\n",
    "plt.title('Boxplot of T_xacc')\n",
    "plt.show()"
   ]
  },
  {
   "cell_type": "code",
   "execution_count": 16,
   "id": "1983b2fb",
   "metadata": {},
   "outputs": [
    {
     "name": "stdout",
     "output_type": "stream",
     "text": [
      "6.7783\n",
      "8.437899999999999\n",
      "9.4105\n"
     ]
    }
   ],
   "source": [
    "#finding the quartile values using percentile \n",
    "Q1=np.percentile(data['T_xacc'],25,interpolation='midpoint')\n",
    "Q2=np.percentile(data['T_xacc'],50,interpolation='midpoint')   \n",
    "Q3=np.percentile(data['T_xacc'],75,interpolation='midpoint')\n",
    "print(Q1)\n",
    "print(Q2)\n",
    "print(Q3)"
   ]
  },
  {
   "cell_type": "code",
   "execution_count": 17,
   "id": "cb6dcead",
   "metadata": {},
   "outputs": [
    {
     "name": "stdout",
     "output_type": "stream",
     "text": [
      "2.8299999999999983\n",
      "13.358800000000002\n"
     ]
    }
   ],
   "source": [
    "#finding IQR\n",
    "IQR=Q3-Q1\n",
    "low_lim=Q1-1.5*IQR\n",
    "up_lim=Q3+1.5*IQR\n",
    "print(low_lim)          \n",
    "print(up_lim)"
   ]
  },
  {
   "cell_type": "code",
   "execution_count": 18,
   "id": "70bb843d",
   "metadata": {},
   "outputs": [
    {
     "data": {
      "text/html": [
       "<div>\n",
       "<style scoped>\n",
       "    .dataframe tbody tr th:only-of-type {\n",
       "        vertical-align: middle;\n",
       "    }\n",
       "\n",
       "    .dataframe tbody tr th {\n",
       "        vertical-align: top;\n",
       "    }\n",
       "\n",
       "    .dataframe thead th {\n",
       "        text-align: right;\n",
       "    }\n",
       "</style>\n",
       "<table border=\"1\" class=\"dataframe\">\n",
       "  <thead>\n",
       "    <tr style=\"text-align: right;\">\n",
       "      <th></th>\n",
       "      <th>0</th>\n",
       "    </tr>\n",
       "  </thead>\n",
       "  <tbody>\n",
       "    <tr>\n",
       "      <th>0</th>\n",
       "      <td>-4.8676</td>\n",
       "    </tr>\n",
       "    <tr>\n",
       "      <th>1</th>\n",
       "      <td>-4.8527</td>\n",
       "    </tr>\n",
       "    <tr>\n",
       "      <th>2</th>\n",
       "      <td>-4.8228</td>\n",
       "    </tr>\n",
       "    <tr>\n",
       "      <th>3</th>\n",
       "      <td>-4.8381</td>\n",
       "    </tr>\n",
       "    <tr>\n",
       "      <th>4</th>\n",
       "      <td>-4.8229</td>\n",
       "    </tr>\n",
       "    <tr>\n",
       "      <th>...</th>\n",
       "      <td>...</td>\n",
       "    </tr>\n",
       "    <tr>\n",
       "      <th>32695</th>\n",
       "      <td>20.3320</td>\n",
       "    </tr>\n",
       "    <tr>\n",
       "      <th>32696</th>\n",
       "      <td>13.5290</td>\n",
       "    </tr>\n",
       "    <tr>\n",
       "      <th>32697</th>\n",
       "      <td>14.0530</td>\n",
       "    </tr>\n",
       "    <tr>\n",
       "      <th>32698</th>\n",
       "      <td>17.4510</td>\n",
       "    </tr>\n",
       "    <tr>\n",
       "      <th>32699</th>\n",
       "      <td>13.5900</td>\n",
       "    </tr>\n",
       "  </tbody>\n",
       "</table>\n",
       "<p>32700 rows × 1 columns</p>\n",
       "</div>"
      ],
      "text/plain": [
       "             0\n",
       "0      -4.8676\n",
       "1      -4.8527\n",
       "2      -4.8228\n",
       "3      -4.8381\n",
       "4      -4.8229\n",
       "...        ...\n",
       "32695  20.3320\n",
       "32696  13.5290\n",
       "32697  14.0530\n",
       "32698  17.4510\n",
       "32699  13.5900\n",
       "\n",
       "[32700 rows x 1 columns]"
      ]
     },
     "execution_count": 18,
     "metadata": {},
     "output_type": "execute_result"
    }
   ],
   "source": [
    "#removing outlier using for loop\n",
    "outlier=[]\n",
    "for x in data['T_xacc']:\n",
    "    if((x>up_lim)or(x<low_lim)):\n",
    "        outlier.append(x)\n",
    "outlier=pd.DataFrame(outlier)\n",
    "outlier        "
   ]
  },
  {
   "cell_type": "code",
   "execution_count": 19,
   "id": "56898b44",
   "metadata": {},
   "outputs": [],
   "source": [
    "ind1=data['T_xacc']<low_lim\n",
    "data=data.drop(data.loc[ind1].index)"
   ]
  },
  {
   "cell_type": "code",
   "execution_count": 20,
   "id": "2db0b9f7",
   "metadata": {},
   "outputs": [],
   "source": [
    "ind2=data['T_xacc']>up_lim\n",
    "data=data.drop(data.loc[ind2].index)"
   ]
  },
  {
   "cell_type": "code",
   "execution_count": 21,
   "id": "927655fe",
   "metadata": {},
   "outputs": [
    {
     "data": {
      "text/plain": [
       "(109800, 46)"
      ]
     },
     "execution_count": 21,
     "metadata": {},
     "output_type": "execute_result"
    }
   ],
   "source": [
    "data.shape"
   ]
  },
  {
   "cell_type": "code",
   "execution_count": 22,
   "id": "8de48e1f",
   "metadata": {},
   "outputs": [
    {
     "data": {
      "text/plain": [
       "Text(0.5, 1.0, 'Box plot of T_xacc')"
      ]
     },
     "execution_count": 22,
     "metadata": {},
     "output_type": "execute_result"
    },
    {
     "data": {
      "image/png": "[encoded data removed]",
      "text/plain": [
       "<Figure size 360x360 with 1 Axes>"
      ]
     },
     "metadata": {
      "needs_background": "light"
     },
     "output_type": "display_data"
    }
   ],
   "source": [
    "plt.figure(figsize=(5, 5))\n",
    "plt.boxplot(data['T_xacc'])\n",
    "plt.title('Box plot of T_xacc')"
   ]
  },
  {
   "cell_type": "markdown",
   "id": "48a34aaa",
   "metadata": {},
   "source": [
    "Case2:T_RL_xacc"
   ]
  },
  {
   "cell_type": "code",
   "execution_count": 23,
   "id": "d33bf415",
   "metadata": {},
   "outputs": [
    {
     "data": {
      "image/png": "[encoded data removed]",
      "text/plain": [
       "<Figure size 360x360 with 1 Axes>"
      ]
     },
     "metadata": {
      "needs_background": "light"
     },
     "output_type": "display_data"
    }
   ],
   "source": [
    "#we will check the presence of outlier using boxplot\n",
    "plt.figure(figsize=(5,5))\n",
    "plt.boxplot(data['RL_xacc'])\n",
    "plt.title('Boxplot of RL_xacc')\n",
    "plt.show()"
   ]
  },
  {
   "cell_type": "code",
   "execution_count": 24,
   "id": "7d353008",
   "metadata": {},
   "outputs": [
    {
     "name": "stdout",
     "output_type": "stream",
     "text": [
      "-10.108\n",
      "-9.49155\n",
      "-6.19825\n"
     ]
    }
   ],
   "source": [
    "#finding the quartile values using percentile \n",
    "Q1=np.percentile(data['RL_xacc'],25,interpolation='midpoint')\n",
    "Q2=np.percentile(data['RL_xacc'],50,interpolation='midpoint')   \n",
    "Q3=np.percentile(data['RL_xacc'],75,interpolation='midpoint')\n",
    "print(Q1)\n",
    "print(Q2)\n",
    "print(Q3)"
   ]
  },
  {
   "cell_type": "code",
   "execution_count": 25,
   "id": "deaec5d0",
   "metadata": {},
   "outputs": [
    {
     "name": "stdout",
     "output_type": "stream",
     "text": [
      "-15.972625\n",
      "-0.33362499999999873\n"
     ]
    }
   ],
   "source": [
    "#finding IQR\n",
    "IQR=Q3-Q1\n",
    "low_lim=Q1-1.5*IQR\n",
    "up_lim=Q3+1.5*IQR\n",
    "print(low_lim)          \n",
    "print(up_lim)"
   ]
  },
  {
   "cell_type": "code",
   "execution_count": 26,
   "id": "e1a49b9d",
   "metadata": {},
   "outputs": [
    {
     "data": {
      "text/html": [
       "<div>\n",
       "<style scoped>\n",
       "    .dataframe tbody tr th:only-of-type {\n",
       "        vertical-align: middle;\n",
       "    }\n",
       "\n",
       "    .dataframe tbody tr th {\n",
       "        vertical-align: top;\n",
       "    }\n",
       "\n",
       "    .dataframe thead th {\n",
       "        text-align: right;\n",
       "    }\n",
       "</style>\n",
       "<table border=\"1\" class=\"dataframe\">\n",
       "  <thead>\n",
       "    <tr style=\"text-align: right;\">\n",
       "      <th></th>\n",
       "      <th>0</th>\n",
       "    </tr>\n",
       "  </thead>\n",
       "  <tbody>\n",
       "    <tr>\n",
       "      <th>0</th>\n",
       "      <td>-16.871</td>\n",
       "    </tr>\n",
       "    <tr>\n",
       "      <th>1</th>\n",
       "      <td>-21.988</td>\n",
       "    </tr>\n",
       "    <tr>\n",
       "      <th>2</th>\n",
       "      <td>-21.083</td>\n",
       "    </tr>\n",
       "    <tr>\n",
       "      <th>3</th>\n",
       "      <td>-21.588</td>\n",
       "    </tr>\n",
       "    <tr>\n",
       "      <th>4</th>\n",
       "      <td>-19.891</td>\n",
       "    </tr>\n",
       "    <tr>\n",
       "      <th>...</th>\n",
       "      <td>...</td>\n",
       "    </tr>\n",
       "    <tr>\n",
       "      <th>6658</th>\n",
       "      <td>-34.628</td>\n",
       "    </tr>\n",
       "    <tr>\n",
       "      <th>6659</th>\n",
       "      <td>-17.666</td>\n",
       "    </tr>\n",
       "    <tr>\n",
       "      <th>6660</th>\n",
       "      <td>1.134</td>\n",
       "    </tr>\n",
       "    <tr>\n",
       "      <th>6661</th>\n",
       "      <td>-28.101</td>\n",
       "    </tr>\n",
       "    <tr>\n",
       "      <th>6662</th>\n",
       "      <td>-16.659</td>\n",
       "    </tr>\n",
       "  </tbody>\n",
       "</table>\n",
       "<p>6663 rows × 1 columns</p>\n",
       "</div>"
      ],
      "text/plain": [
       "           0\n",
       "0    -16.871\n",
       "1    -21.988\n",
       "2    -21.083\n",
       "3    -21.588\n",
       "4    -19.891\n",
       "...      ...\n",
       "6658 -34.628\n",
       "6659 -17.666\n",
       "6660   1.134\n",
       "6661 -28.101\n",
       "6662 -16.659\n",
       "\n",
       "[6663 rows x 1 columns]"
      ]
     },
     "execution_count": 26,
     "metadata": {},
     "output_type": "execute_result"
    }
   ],
   "source": [
    "#removing outlier using for loop\n",
    "outlier=[]\n",
    "for x in data['RL_xacc']:\n",
    "    if((x>up_lim)or(x<low_lim)):\n",
    "        outlier.append(x)\n",
    "outlier=pd.DataFrame(outlier)\n",
    "outlier"
   ]
  },
  {
   "cell_type": "code",
   "execution_count": 27,
   "id": "9063ecd7",
   "metadata": {},
   "outputs": [],
   "source": [
    "ind3=data['RL_xacc']<low_lim\n",
    "data=data.drop(data.loc[ind3].index)"
   ]
  },
  {
   "cell_type": "code",
   "execution_count": 28,
   "id": "aba177e8",
   "metadata": {},
   "outputs": [],
   "source": [
    "ind4=data['RL_xacc']>up_lim\n",
    "data=data.drop(data.loc[ind4].index)"
   ]
  },
  {
   "cell_type": "code",
   "execution_count": 29,
   "id": "ee1b4cf7",
   "metadata": {},
   "outputs": [
    {
     "data": {
      "text/plain": [
       "(103137, 46)"
      ]
     },
     "execution_count": 29,
     "metadata": {},
     "output_type": "execute_result"
    }
   ],
   "source": [
    "data.shape"
   ]
  },
  {
   "cell_type": "code",
   "execution_count": 30,
   "id": "94e9fd6a",
   "metadata": {},
   "outputs": [
    {
     "data": {
      "image/png": "[encoded data removed]",
      "text/plain": [
       "<Figure size 360x360 with 1 Axes>"
      ]
     },
     "metadata": {
      "needs_background": "light"
     },
     "output_type": "display_data"
    }
   ],
   "source": [
    "plt.figure(figsize=(5,5))\n",
    "plt.boxplot(data['RL_xacc'])\n",
    "plt.title('Boxplot of RL_xacc')\n",
    "plt.show()"
   ]
  },
  {
   "cell_type": "markdown",
   "id": "04875c47",
   "metadata": {},
   "source": [
    "Case3:LA_yacc"
   ]
  },
  {
   "cell_type": "code",
   "execution_count": 31,
   "id": "13cb8ac9",
   "metadata": {},
   "outputs": [
    {
     "data": {
      "image/png": "[encoded data removed]",
      "text/plain": [
       "<Figure size 360x360 with 1 Axes>"
      ]
     },
     "metadata": {
      "needs_background": "light"
     },
     "output_type": "display_data"
    }
   ],
   "source": [
    "plt.figure(figsize=(5,5))\n",
    "plt.boxplot(data['LA_yacc'])\n",
    "plt.title('Boxplot of LA_yacc')\n",
    "plt.show()"
   ]
  },
  {
   "cell_type": "code",
   "execution_count": 32,
   "id": "99950e32",
   "metadata": {},
   "outputs": [
    {
     "name": "stdout",
     "output_type": "stream",
     "text": [
      "-6.3304\n",
      "-4.431\n",
      "-3.1744\n"
     ]
    }
   ],
   "source": [
    "#finding the quartile values using percentile \n",
    "Q1=np.percentile(data['LA_yacc'],25,interpolation='midpoint')\n",
    "Q2=np.percentile(data['LA_yacc'],50,interpolation='midpoint')   \n",
    "Q3=np.percentile(data['LA_yacc'],75,interpolation='midpoint')\n",
    "print(Q1)\n",
    "print(Q2)\n",
    "print(Q3)"
   ]
  },
  {
   "cell_type": "code",
   "execution_count": 33,
   "id": "b3eebdb4",
   "metadata": {},
   "outputs": [
    {
     "name": "stdout",
     "output_type": "stream",
     "text": [
      "-11.0644\n",
      "1.5596\n"
     ]
    }
   ],
   "source": [
    "#finding IQR\n",
    "IQR=Q3-Q1\n",
    "low_lim=Q1-1.5*IQR\n",
    "up_lim=Q3+1.5*IQR\n",
    "print(low_lim)          \n",
    "print(up_lim)"
   ]
  },
  {
   "cell_type": "code",
   "execution_count": 34,
   "id": "b7baff10",
   "metadata": {},
   "outputs": [
    {
     "data": {
      "text/html": [
       "<div>\n",
       "<style scoped>\n",
       "    .dataframe tbody tr th:only-of-type {\n",
       "        vertical-align: middle;\n",
       "    }\n",
       "\n",
       "    .dataframe tbody tr th {\n",
       "        vertical-align: top;\n",
       "    }\n",
       "\n",
       "    .dataframe thead th {\n",
       "        text-align: right;\n",
       "    }\n",
       "</style>\n",
       "<table border=\"1\" class=\"dataframe\">\n",
       "  <thead>\n",
       "    <tr style=\"text-align: right;\">\n",
       "      <th></th>\n",
       "      <th>0</th>\n",
       "    </tr>\n",
       "  </thead>\n",
       "  <tbody>\n",
       "    <tr>\n",
       "      <th>0</th>\n",
       "      <td>-12.2440</td>\n",
       "    </tr>\n",
       "    <tr>\n",
       "      <th>1</th>\n",
       "      <td>-13.2510</td>\n",
       "    </tr>\n",
       "    <tr>\n",
       "      <th>2</th>\n",
       "      <td>-11.3500</td>\n",
       "    </tr>\n",
       "    <tr>\n",
       "      <th>3</th>\n",
       "      <td>1.9547</td>\n",
       "    </tr>\n",
       "    <tr>\n",
       "      <th>4</th>\n",
       "      <td>1.6420</td>\n",
       "    </tr>\n",
       "    <tr>\n",
       "      <th>...</th>\n",
       "      <td>...</td>\n",
       "    </tr>\n",
       "    <tr>\n",
       "      <th>3177</th>\n",
       "      <td>1.8463</td>\n",
       "    </tr>\n",
       "    <tr>\n",
       "      <th>3178</th>\n",
       "      <td>-12.2960</td>\n",
       "    </tr>\n",
       "    <tr>\n",
       "      <th>3179</th>\n",
       "      <td>-13.7750</td>\n",
       "    </tr>\n",
       "    <tr>\n",
       "      <th>3180</th>\n",
       "      <td>3.7132</td>\n",
       "    </tr>\n",
       "    <tr>\n",
       "      <th>3181</th>\n",
       "      <td>7.6763</td>\n",
       "    </tr>\n",
       "  </tbody>\n",
       "</table>\n",
       "<p>3182 rows × 1 columns</p>\n",
       "</div>"
      ],
      "text/plain": [
       "            0\n",
       "0    -12.2440\n",
       "1    -13.2510\n",
       "2    -11.3500\n",
       "3      1.9547\n",
       "4      1.6420\n",
       "...       ...\n",
       "3177   1.8463\n",
       "3178 -12.2960\n",
       "3179 -13.7750\n",
       "3180   3.7132\n",
       "3181   7.6763\n",
       "\n",
       "[3182 rows x 1 columns]"
      ]
     },
     "execution_count": 34,
     "metadata": {},
     "output_type": "execute_result"
    }
   ],
   "source": [
    "#removing outlier using for loop\n",
    "outlier=[]\n",
    "for x in data['LA_yacc']:\n",
    "    if((x>up_lim)or(x<low_lim)):\n",
    "        outlier.append(x)\n",
    "outlier=pd.DataFrame(outlier)\n",
    "outlier"
   ]
  },
  {
   "cell_type": "code",
   "execution_count": 35,
   "id": "63949ebc",
   "metadata": {},
   "outputs": [],
   "source": [
    "ind5=data['LA_yacc']<low_lim\n",
    "data=data.drop(data.loc[ind5].index)"
   ]
  },
  {
   "cell_type": "code",
   "execution_count": 36,
   "id": "65218887",
   "metadata": {},
   "outputs": [],
   "source": [
    "ind6=data['LA_yacc']>up_lim\n",
    "data=data.drop(data.loc[ind6].index)"
   ]
  },
  {
   "cell_type": "code",
   "execution_count": 37,
   "id": "4f14610d",
   "metadata": {},
   "outputs": [
    {
     "data": {
      "text/plain": [
       "(99955, 46)"
      ]
     },
     "execution_count": 37,
     "metadata": {},
     "output_type": "execute_result"
    }
   ],
   "source": [
    "data.shape"
   ]
  },
  {
   "cell_type": "code",
   "execution_count": 38,
   "id": "18f218ce",
   "metadata": {},
   "outputs": [
    {
     "data": {
      "image/png": "[encoded data removed]",
      "text/plain": [
       "<Figure size 360x360 with 1 Axes>"
      ]
     },
     "metadata": {
      "needs_background": "light"
     },
     "output_type": "display_data"
    }
   ],
   "source": [
    "plt.figure(figsize=(5,5))\n",
    "plt.boxplot(data['LA_yacc'])\n",
    "plt.title('Boxplot of LA_yacc')\n",
    "plt.show()"
   ]
  },
  {
   "cell_type": "markdown",
   "id": "b495f7ac",
   "metadata": {},
   "source": [
    "Case4:RA_xacc"
   ]
  },
  {
   "cell_type": "code",
   "execution_count": 39,
   "id": "a3590a48",
   "metadata": {},
   "outputs": [
    {
     "data": {
      "image/png": "[encoded data removed]",
      "text/plain": [
       "<Figure size 360x360 with 1 Axes>"
      ]
     },
     "metadata": {
      "needs_background": "light"
     },
     "output_type": "display_data"
    }
   ],
   "source": [
    "plt.figure(figsize=(5,5))\n",
    "plt.boxplot(data['RA_xacc'])\n",
    "plt.title('Boxplot of RA_xacc')\n",
    "plt.show()"
   ]
  },
  {
   "cell_type": "code",
   "execution_count": 40,
   "id": "290d95a0",
   "metadata": {},
   "outputs": [
    {
     "name": "stdout",
     "output_type": "stream",
     "text": [
      "0.134825\n",
      "3.9774\n",
      "7.8578\n"
     ]
    }
   ],
   "source": [
    "#finding the quartile values using percentile \n",
    "Q1=np.percentile(data['RA_xacc'],25,interpolation='midpoint')\n",
    "Q2=np.percentile(data['RA_xacc'],50,interpolation='midpoint')   \n",
    "Q3=np.percentile(data['RA_xacc'],75,interpolation='midpoint')\n",
    "print(Q1)\n",
    "print(Q2)\n",
    "print(Q3)"
   ]
  },
  {
   "cell_type": "code",
   "execution_count": 41,
   "id": "3ee1283f",
   "metadata": {},
   "outputs": [
    {
     "name": "stdout",
     "output_type": "stream",
     "text": [
      "-11.449637500000001\n",
      "19.442262500000002\n"
     ]
    }
   ],
   "source": [
    "#finding IQR\n",
    "IQR=Q3-Q1\n",
    "low_lim=Q1-1.5*IQR\n",
    "up_lim=Q3+1.5*IQR\n",
    "print(low_lim)          \n",
    "print(up_lim)"
   ]
  },
  {
   "cell_type": "code",
   "execution_count": 42,
   "id": "9033a836",
   "metadata": {},
   "outputs": [
    {
     "data": {
      "text/html": [
       "<div>\n",
       "<style scoped>\n",
       "    .dataframe tbody tr th:only-of-type {\n",
       "        vertical-align: middle;\n",
       "    }\n",
       "\n",
       "    .dataframe tbody tr th {\n",
       "        vertical-align: top;\n",
       "    }\n",
       "\n",
       "    .dataframe thead th {\n",
       "        text-align: right;\n",
       "    }\n",
       "</style>\n",
       "<table border=\"1\" class=\"dataframe\">\n",
       "  <thead>\n",
       "    <tr style=\"text-align: right;\">\n",
       "      <th></th>\n",
       "      <th>0</th>\n",
       "    </tr>\n",
       "  </thead>\n",
       "  <tbody>\n",
       "    <tr>\n",
       "      <th>0</th>\n",
       "      <td>-11.547</td>\n",
       "    </tr>\n",
       "    <tr>\n",
       "      <th>1</th>\n",
       "      <td>-13.066</td>\n",
       "    </tr>\n",
       "    <tr>\n",
       "      <th>2</th>\n",
       "      <td>-11.782</td>\n",
       "    </tr>\n",
       "    <tr>\n",
       "      <th>3</th>\n",
       "      <td>-12.135</td>\n",
       "    </tr>\n",
       "    <tr>\n",
       "      <th>4</th>\n",
       "      <td>-12.225</td>\n",
       "    </tr>\n",
       "    <tr>\n",
       "      <th>...</th>\n",
       "      <td>...</td>\n",
       "    </tr>\n",
       "    <tr>\n",
       "      <th>245</th>\n",
       "      <td>-21.992</td>\n",
       "    </tr>\n",
       "    <tr>\n",
       "      <th>246</th>\n",
       "      <td>58.470</td>\n",
       "    </tr>\n",
       "    <tr>\n",
       "      <th>247</th>\n",
       "      <td>20.779</td>\n",
       "    </tr>\n",
       "    <tr>\n",
       "      <th>248</th>\n",
       "      <td>21.890</td>\n",
       "    </tr>\n",
       "    <tr>\n",
       "      <th>249</th>\n",
       "      <td>30.395</td>\n",
       "    </tr>\n",
       "  </tbody>\n",
       "</table>\n",
       "<p>250 rows × 1 columns</p>\n",
       "</div>"
      ],
      "text/plain": [
       "          0\n",
       "0   -11.547\n",
       "1   -13.066\n",
       "2   -11.782\n",
       "3   -12.135\n",
       "4   -12.225\n",
       "..      ...\n",
       "245 -21.992\n",
       "246  58.470\n",
       "247  20.779\n",
       "248  21.890\n",
       "249  30.395\n",
       "\n",
       "[250 rows x 1 columns]"
      ]
     },
     "execution_count": 42,
     "metadata": {},
     "output_type": "execute_result"
    }
   ],
   "source": [
    "#removing outlier using for loop\n",
    "outlier=[]\n",
    "for x in data['RA_xacc']:\n",
    "    if((x>up_lim)or(x<low_lim)):\n",
    "        outlier.append(x)\n",
    "outlier=pd.DataFrame(outlier)\n",
    "outlier"
   ]
  },
  {
   "cell_type": "code",
   "execution_count": 43,
   "id": "76c1d69c",
   "metadata": {},
   "outputs": [],
   "source": [
    "ind7=data['RA_xacc']<low_lim\n",
    "data=data.drop(data.loc[ind7].index)"
   ]
  },
  {
   "cell_type": "code",
   "execution_count": 44,
   "id": "5dcd9a20",
   "metadata": {},
   "outputs": [],
   "source": [
    "ind8=data['RA_xacc']>up_lim\n",
    "data=data.drop(data.loc[ind8].index)"
   ]
  },
  {
   "cell_type": "code",
   "execution_count": 45,
   "id": "753bc3f4",
   "metadata": {},
   "outputs": [
    {
     "data": {
      "text/plain": [
       "(99705, 46)"
      ]
     },
     "execution_count": 45,
     "metadata": {},
     "output_type": "execute_result"
    }
   ],
   "source": [
    "data.shape"
   ]
  },
  {
   "cell_type": "code",
   "execution_count": 46,
   "id": "04c1ca0e",
   "metadata": {},
   "outputs": [
    {
     "data": {
      "image/png": "[encoded data removed]",
      "text/plain": [
       "<Figure size 360x360 with 1 Axes>"
      ]
     },
     "metadata": {
      "needs_background": "light"
     },
     "output_type": "display_data"
    }
   ],
   "source": [
    "plt.figure(figsize=(5,5))\n",
    "plt.boxplot(data['RA_xacc'])\n",
    "plt.title('Boxplot of RA_xacc')\n",
    "plt.show()"
   ]
  },
  {
   "cell_type": "markdown",
   "id": "b25cb135",
   "metadata": {},
   "source": [
    "Case5:LL_yacc"
   ]
  },
  {
   "cell_type": "code",
   "execution_count": 47,
   "id": "05908b5f",
   "metadata": {},
   "outputs": [
    {
     "data": {
      "image/png": "[encoded data removed]",
      "text/plain": [
       "<Figure size 360x360 with 1 Axes>"
      ]
     },
     "metadata": {
      "needs_background": "light"
     },
     "output_type": "display_data"
    }
   ],
   "source": [
    "plt.figure(figsize=(5,5))\n",
    "plt.boxplot(data['LL_yacc'])\n",
    "plt.title('Boxplot of LL_yacc')\n",
    "plt.show()"
   ]
  },
  {
   "cell_type": "code",
   "execution_count": 48,
   "id": "044ae537",
   "metadata": {},
   "outputs": [
    {
     "name": "stdout",
     "output_type": "stream",
     "text": [
      "-6.5737\n",
      "-1.4841\n",
      "0.52502\n"
     ]
    }
   ],
   "source": [
    "#finding the quartile values using percentile \n",
    "Q1=np.percentile(data['LL_yacc'],25,interpolation='midpoint')\n",
    "Q2=np.percentile(data['LL_yacc'],50,interpolation='midpoint')   \n",
    "Q3=np.percentile(data['LL_yacc'],75,interpolation='midpoint')\n",
    "print(Q1)\n",
    "print(Q2)\n",
    "print(Q3)"
   ]
  },
  {
   "cell_type": "code",
   "execution_count": 49,
   "id": "52aedb39",
   "metadata": {},
   "outputs": [
    {
     "name": "stdout",
     "output_type": "stream",
     "text": [
      "-17.22178\n",
      "11.1731\n"
     ]
    }
   ],
   "source": [
    "#finding IQR\n",
    "IQR=Q3-Q1\n",
    "low_lim=Q1-1.5*IQR\n",
    "up_lim=Q3+1.5*IQR\n",
    "print(low_lim)          \n",
    "print(up_lim)"
   ]
  },
  {
   "cell_type": "code",
   "execution_count": 50,
   "id": "913ed429",
   "metadata": {},
   "outputs": [
    {
     "data": {
      "text/html": [
       "<div>\n",
       "<style scoped>\n",
       "    .dataframe tbody tr th:only-of-type {\n",
       "        vertical-align: middle;\n",
       "    }\n",
       "\n",
       "    .dataframe tbody tr th {\n",
       "        vertical-align: top;\n",
       "    }\n",
       "\n",
       "    .dataframe thead th {\n",
       "        text-align: right;\n",
       "    }\n",
       "</style>\n",
       "<table border=\"1\" class=\"dataframe\">\n",
       "  <thead>\n",
       "    <tr style=\"text-align: right;\">\n",
       "      <th></th>\n",
       "      <th>0</th>\n",
       "    </tr>\n",
       "  </thead>\n",
       "  <tbody>\n",
       "    <tr>\n",
       "      <th>0</th>\n",
       "      <td>-30.224</td>\n",
       "    </tr>\n",
       "    <tr>\n",
       "      <th>1</th>\n",
       "      <td>-19.087</td>\n",
       "    </tr>\n",
       "    <tr>\n",
       "      <th>2</th>\n",
       "      <td>14.269</td>\n",
       "    </tr>\n",
       "    <tr>\n",
       "      <th>3</th>\n",
       "      <td>-22.521</td>\n",
       "    </tr>\n",
       "    <tr>\n",
       "      <th>4</th>\n",
       "      <td>-18.085</td>\n",
       "    </tr>\n",
       "    <tr>\n",
       "      <th>...</th>\n",
       "      <td>...</td>\n",
       "    </tr>\n",
       "    <tr>\n",
       "      <th>1084</th>\n",
       "      <td>-17.849</td>\n",
       "    </tr>\n",
       "    <tr>\n",
       "      <th>1085</th>\n",
       "      <td>-17.540</td>\n",
       "    </tr>\n",
       "    <tr>\n",
       "      <th>1086</th>\n",
       "      <td>14.795</td>\n",
       "    </tr>\n",
       "    <tr>\n",
       "      <th>1087</th>\n",
       "      <td>11.601</td>\n",
       "    </tr>\n",
       "    <tr>\n",
       "      <th>1088</th>\n",
       "      <td>22.666</td>\n",
       "    </tr>\n",
       "  </tbody>\n",
       "</table>\n",
       "<p>1089 rows × 1 columns</p>\n",
       "</div>"
      ],
      "text/plain": [
       "           0\n",
       "0    -30.224\n",
       "1    -19.087\n",
       "2     14.269\n",
       "3    -22.521\n",
       "4    -18.085\n",
       "...      ...\n",
       "1084 -17.849\n",
       "1085 -17.540\n",
       "1086  14.795\n",
       "1087  11.601\n",
       "1088  22.666\n",
       "\n",
       "[1089 rows x 1 columns]"
      ]
     },
     "execution_count": 50,
     "metadata": {},
     "output_type": "execute_result"
    }
   ],
   "source": [
    "#removing outlier using for loop\n",
    "outlier=[]\n",
    "for x in data['LL_yacc']:\n",
    "    if((x>up_lim)or(x<low_lim)):\n",
    "        outlier.append(x)\n",
    "outlier=pd.DataFrame(outlier)\n",
    "outlier"
   ]
  },
  {
   "cell_type": "code",
   "execution_count": 51,
   "id": "ddf6f05b",
   "metadata": {},
   "outputs": [],
   "source": [
    "ind9=data['LL_yacc']<low_lim\n",
    "data=data.drop(data.loc[ind9].index)"
   ]
  },
  {
   "cell_type": "code",
   "execution_count": 52,
   "id": "56a325fa",
   "metadata": {},
   "outputs": [],
   "source": [
    "ind10=data['LL_yacc']>up_lim\n",
    "data=data.drop(data.loc[ind10].index)"
   ]
  },
  {
   "cell_type": "code",
   "execution_count": 53,
   "id": "02f0308f",
   "metadata": {},
   "outputs": [
    {
     "data": {
      "text/plain": [
       "(98616, 46)"
      ]
     },
     "execution_count": 53,
     "metadata": {},
     "output_type": "execute_result"
    }
   ],
   "source": [
    "data.shape"
   ]
  },
  {
   "cell_type": "code",
   "execution_count": 54,
   "id": "8a46a314",
   "metadata": {},
   "outputs": [
    {
     "data": {
      "image/png": "[encoded data removed]",
      "text/plain": [
       "<Figure size 360x360 with 1 Axes>"
      ]
     },
     "metadata": {
      "needs_background": "light"
     },
     "output_type": "display_data"
    }
   ],
   "source": [
    "plt.figure(figsize=(5,5))\n",
    "plt.boxplot(data['LL_yacc'])\n",
    "plt.title('Boxplot of LL_yacc')\n",
    "plt.show()"
   ]
  },
  {
   "cell_type": "code",
   "execution_count": 55,
   "id": "4e156f15",
   "metadata": {},
   "outputs": [],
   "source": [
    "from sklearn.linear_model import LogisticRegression\n",
    "from sklearn.model_selection import train_test_split\n",
    "from sklearn import linear_model\n",
    "from sklearn.metrics import confusion_matrix,classification_report,accuracy_score, precision_score"
   ]
  },
  {
   "cell_type": "code",
   "execution_count": 56,
   "id": "e6373a6e",
   "metadata": {},
   "outputs": [
    {
     "data": {
      "text/html": [
       "<div>\n",
       "<style scoped>\n",
       "    .dataframe tbody tr th:only-of-type {\n",
       "        vertical-align: middle;\n",
       "    }\n",
       "\n",
       "    .dataframe tbody tr th {\n",
       "        vertical-align: top;\n",
       "    }\n",
       "\n",
       "    .dataframe thead th {\n",
       "        text-align: right;\n",
       "    }\n",
       "</style>\n",
       "<table border=\"1\" class=\"dataframe\">\n",
       "  <thead>\n",
       "    <tr style=\"text-align: right;\">\n",
       "      <th></th>\n",
       "      <th>T_xacc</th>\n",
       "      <th>T_yacc</th>\n",
       "      <th>T_zacc</th>\n",
       "      <th>T_xgyro</th>\n",
       "      <th>T_ygyro</th>\n",
       "      <th>T_zgyro</th>\n",
       "      <th>T_xmag</th>\n",
       "      <th>T_ymag</th>\n",
       "      <th>T_zmag</th>\n",
       "      <th>RA_xacc</th>\n",
       "      <th>...</th>\n",
       "      <th>RL_zmag</th>\n",
       "      <th>LL_xacc</th>\n",
       "      <th>LL_yacc</th>\n",
       "      <th>LL_zacc</th>\n",
       "      <th>LL_xgyro</th>\n",
       "      <th>LL_ygyro</th>\n",
       "      <th>LL_zgyro</th>\n",
       "      <th>LL_xmag</th>\n",
       "      <th>LL_ymag</th>\n",
       "      <th>LL_zmag</th>\n",
       "    </tr>\n",
       "  </thead>\n",
       "  <tbody>\n",
       "    <tr>\n",
       "      <th>0</th>\n",
       "      <td>8.1305</td>\n",
       "      <td>1.03490</td>\n",
       "      <td>5.421700</td>\n",
       "      <td>-0.009461</td>\n",
       "      <td>0.001915</td>\n",
       "      <td>-0.003424</td>\n",
       "      <td>-0.78712</td>\n",
       "      <td>-0.069654</td>\n",
       "      <td>0.15730</td>\n",
       "      <td>0.70097</td>\n",
       "      <td>...</td>\n",
       "      <td>-0.036453</td>\n",
       "      <td>-2.8071</td>\n",
       "      <td>-9.0812</td>\n",
       "      <td>2.62200</td>\n",
       "      <td>-0.000232</td>\n",
       "      <td>-0.012092</td>\n",
       "      <td>-0.004457</td>\n",
       "      <td>0.74017</td>\n",
       "      <td>0.30053</td>\n",
       "      <td>-0.057730</td>\n",
       "    </tr>\n",
       "    <tr>\n",
       "      <th>1</th>\n",
       "      <td>8.1305</td>\n",
       "      <td>1.02020</td>\n",
       "      <td>5.384300</td>\n",
       "      <td>-0.009368</td>\n",
       "      <td>0.023485</td>\n",
       "      <td>0.001953</td>\n",
       "      <td>-0.78717</td>\n",
       "      <td>-0.068275</td>\n",
       "      <td>0.15890</td>\n",
       "      <td>0.71829</td>\n",
       "      <td>...</td>\n",
       "      <td>-0.034005</td>\n",
       "      <td>-2.8146</td>\n",
       "      <td>-9.0737</td>\n",
       "      <td>2.62180</td>\n",
       "      <td>-0.014784</td>\n",
       "      <td>-0.016477</td>\n",
       "      <td>0.002789</td>\n",
       "      <td>0.73937</td>\n",
       "      <td>0.30183</td>\n",
       "      <td>-0.057514</td>\n",
       "    </tr>\n",
       "    <tr>\n",
       "      <th>2</th>\n",
       "      <td>8.1604</td>\n",
       "      <td>1.02010</td>\n",
       "      <td>5.362200</td>\n",
       "      <td>0.015046</td>\n",
       "      <td>0.014330</td>\n",
       "      <td>0.000204</td>\n",
       "      <td>-0.78664</td>\n",
       "      <td>-0.068277</td>\n",
       "      <td>0.15879</td>\n",
       "      <td>0.69849</td>\n",
       "      <td>...</td>\n",
       "      <td>-0.036489</td>\n",
       "      <td>-2.8221</td>\n",
       "      <td>-9.0886</td>\n",
       "      <td>2.63660</td>\n",
       "      <td>-0.012770</td>\n",
       "      <td>0.005717</td>\n",
       "      <td>-0.007918</td>\n",
       "      <td>0.73955</td>\n",
       "      <td>0.30052</td>\n",
       "      <td>-0.057219</td>\n",
       "    </tr>\n",
       "    <tr>\n",
       "      <th>3</th>\n",
       "      <td>8.1603</td>\n",
       "      <td>1.00520</td>\n",
       "      <td>5.377000</td>\n",
       "      <td>0.006892</td>\n",
       "      <td>0.018045</td>\n",
       "      <td>0.005649</td>\n",
       "      <td>-0.78529</td>\n",
       "      <td>-0.069849</td>\n",
       "      <td>0.15912</td>\n",
       "      <td>0.72799</td>\n",
       "      <td>...</td>\n",
       "      <td>-0.036151</td>\n",
       "      <td>-2.8071</td>\n",
       "      <td>-9.0811</td>\n",
       "      <td>2.60700</td>\n",
       "      <td>-0.005725</td>\n",
       "      <td>0.009620</td>\n",
       "      <td>0.006555</td>\n",
       "      <td>0.74029</td>\n",
       "      <td>0.30184</td>\n",
       "      <td>-0.057750</td>\n",
       "    </tr>\n",
       "    <tr>\n",
       "      <th>4</th>\n",
       "      <td>8.1605</td>\n",
       "      <td>1.02750</td>\n",
       "      <td>5.347300</td>\n",
       "      <td>0.008811</td>\n",
       "      <td>0.030433</td>\n",
       "      <td>-0.005346</td>\n",
       "      <td>-0.78742</td>\n",
       "      <td>-0.068796</td>\n",
       "      <td>0.15916</td>\n",
       "      <td>0.71572</td>\n",
       "      <td>...</td>\n",
       "      <td>-0.033807</td>\n",
       "      <td>-2.8146</td>\n",
       "      <td>-9.0737</td>\n",
       "      <td>2.62180</td>\n",
       "      <td>-0.003929</td>\n",
       "      <td>-0.008371</td>\n",
       "      <td>0.002816</td>\n",
       "      <td>0.73845</td>\n",
       "      <td>0.30090</td>\n",
       "      <td>-0.057527</td>\n",
       "    </tr>\n",
       "    <tr>\n",
       "      <th>...</th>\n",
       "      <td>...</td>\n",
       "      <td>...</td>\n",
       "      <td>...</td>\n",
       "      <td>...</td>\n",
       "      <td>...</td>\n",
       "      <td>...</td>\n",
       "      <td>...</td>\n",
       "      <td>...</td>\n",
       "      <td>...</td>\n",
       "      <td>...</td>\n",
       "      <td>...</td>\n",
       "      <td>...</td>\n",
       "      <td>...</td>\n",
       "      <td>...</td>\n",
       "      <td>...</td>\n",
       "      <td>...</td>\n",
       "      <td>...</td>\n",
       "      <td>...</td>\n",
       "      <td>...</td>\n",
       "      <td>...</td>\n",
       "      <td>...</td>\n",
       "    </tr>\n",
       "    <tr>\n",
       "      <th>142493</th>\n",
       "      <td>12.1090</td>\n",
       "      <td>-1.76170</td>\n",
       "      <td>1.418400</td>\n",
       "      <td>-0.759660</td>\n",
       "      <td>-0.163240</td>\n",
       "      <td>-0.847010</td>\n",
       "      <td>-0.88165</td>\n",
       "      <td>0.019117</td>\n",
       "      <td>-0.49623</td>\n",
       "      <td>5.29140</td>\n",
       "      <td>...</td>\n",
       "      <td>-0.178480</td>\n",
       "      <td>-5.5356</td>\n",
       "      <td>-3.8215</td>\n",
       "      <td>-0.55360</td>\n",
       "      <td>0.074623</td>\n",
       "      <td>0.883480</td>\n",
       "      <td>0.168770</td>\n",
       "      <td>0.59015</td>\n",
       "      <td>0.91801</td>\n",
       "      <td>0.084023</td>\n",
       "    </tr>\n",
       "    <tr>\n",
       "      <th>142494</th>\n",
       "      <td>11.7670</td>\n",
       "      <td>-2.31610</td>\n",
       "      <td>-0.050036</td>\n",
       "      <td>0.729900</td>\n",
       "      <td>-0.397800</td>\n",
       "      <td>-0.814910</td>\n",
       "      <td>-0.87781</td>\n",
       "      <td>-0.011872</td>\n",
       "      <td>-0.50223</td>\n",
       "      <td>10.08500</td>\n",
       "      <td>...</td>\n",
       "      <td>-0.179230</td>\n",
       "      <td>-14.8040</td>\n",
       "      <td>-15.4720</td>\n",
       "      <td>2.37370</td>\n",
       "      <td>0.229380</td>\n",
       "      <td>0.468500</td>\n",
       "      <td>-0.643740</td>\n",
       "      <td>0.58371</td>\n",
       "      <td>0.92602</td>\n",
       "      <td>0.093612</td>\n",
       "    </tr>\n",
       "    <tr>\n",
       "      <th>142497</th>\n",
       "      <td>11.9380</td>\n",
       "      <td>3.30380</td>\n",
       "      <td>-1.608700</td>\n",
       "      <td>0.084079</td>\n",
       "      <td>-0.797100</td>\n",
       "      <td>-0.142730</td>\n",
       "      <td>-0.93514</td>\n",
       "      <td>-0.061046</td>\n",
       "      <td>-0.39099</td>\n",
       "      <td>13.24800</td>\n",
       "      <td>...</td>\n",
       "      <td>-0.221780</td>\n",
       "      <td>-11.9110</td>\n",
       "      <td>5.8818</td>\n",
       "      <td>-2.77030</td>\n",
       "      <td>-0.563030</td>\n",
       "      <td>0.869330</td>\n",
       "      <td>0.726270</td>\n",
       "      <td>0.61198</td>\n",
       "      <td>0.90992</td>\n",
       "      <td>0.146550</td>\n",
       "    </tr>\n",
       "    <tr>\n",
       "      <th>142498</th>\n",
       "      <td>9.3892</td>\n",
       "      <td>-0.21785</td>\n",
       "      <td>-5.037900</td>\n",
       "      <td>-0.282580</td>\n",
       "      <td>-0.709510</td>\n",
       "      <td>0.331910</td>\n",
       "      <td>-0.94844</td>\n",
       "      <td>-0.060004</td>\n",
       "      <td>-0.35699</td>\n",
       "      <td>7.71570</td>\n",
       "      <td>...</td>\n",
       "      <td>-0.198950</td>\n",
       "      <td>-9.7683</td>\n",
       "      <td>-3.6667</td>\n",
       "      <td>-0.89959</td>\n",
       "      <td>0.693270</td>\n",
       "      <td>0.428480</td>\n",
       "      <td>0.884290</td>\n",
       "      <td>0.64304</td>\n",
       "      <td>0.89064</td>\n",
       "      <td>0.144460</td>\n",
       "    </tr>\n",
       "    <tr>\n",
       "      <th>142499</th>\n",
       "      <td>9.0513</td>\n",
       "      <td>-1.79030</td>\n",
       "      <td>-3.857000</td>\n",
       "      <td>1.743600</td>\n",
       "      <td>1.188000</td>\n",
       "      <td>-0.333790</td>\n",
       "      <td>-0.93709</td>\n",
       "      <td>-0.068852</td>\n",
       "      <td>-0.38543</td>\n",
       "      <td>2.98160</td>\n",
       "      <td>...</td>\n",
       "      <td>-0.164370</td>\n",
       "      <td>-12.0130</td>\n",
       "      <td>-4.0103</td>\n",
       "      <td>2.09460</td>\n",
       "      <td>-0.120770</td>\n",
       "      <td>0.222800</td>\n",
       "      <td>0.768400</td>\n",
       "      <td>0.66904</td>\n",
       "      <td>0.87302</td>\n",
       "      <td>0.142560</td>\n",
       "    </tr>\n",
       "  </tbody>\n",
       "</table>\n",
       "<p>98616 rows × 45 columns</p>\n",
       "</div>"
      ],
      "text/plain": [
       "         T_xacc   T_yacc    T_zacc   T_xgyro   T_ygyro   T_zgyro   T_xmag  \\\n",
       "0        8.1305  1.03490  5.421700 -0.009461  0.001915 -0.003424 -0.78712   \n",
       "1        8.1305  1.02020  5.384300 -0.009368  0.023485  0.001953 -0.78717   \n",
       "2        8.1604  1.02010  5.362200  0.015046  0.014330  0.000204 -0.78664   \n",
       "3        8.1603  1.00520  5.377000  0.006892  0.018045  0.005649 -0.78529   \n",
       "4        8.1605  1.02750  5.347300  0.008811  0.030433 -0.005346 -0.78742   \n",
       "...         ...      ...       ...       ...       ...       ...      ...   \n",
       "142493  12.1090 -1.76170  1.418400 -0.759660 -0.163240 -0.847010 -0.88165   \n",
       "142494  11.7670 -2.31610 -0.050036  0.729900 -0.397800 -0.814910 -0.87781   \n",
       "142497  11.9380  3.30380 -1.608700  0.084079 -0.797100 -0.142730 -0.93514   \n",
       "142498   9.3892 -0.21785 -5.037900 -0.282580 -0.709510  0.331910 -0.94844   \n",
       "142499   9.0513 -1.79030 -3.857000  1.743600  1.188000 -0.333790 -0.93709   \n",
       "\n",
       "          T_ymag   T_zmag   RA_xacc  ...   RL_zmag  LL_xacc  LL_yacc  LL_zacc  \\\n",
       "0      -0.069654  0.15730   0.70097  ... -0.036453  -2.8071  -9.0812  2.62200   \n",
       "1      -0.068275  0.15890   0.71829  ... -0.034005  -2.8146  -9.0737  2.62180   \n",
       "2      -0.068277  0.15879   0.69849  ... -0.036489  -2.8221  -9.0886  2.63660   \n",
       "3      -0.069849  0.15912   0.72799  ... -0.036151  -2.8071  -9.0811  2.60700   \n",
       "4      -0.068796  0.15916   0.71572  ... -0.033807  -2.8146  -9.0737  2.62180   \n",
       "...          ...      ...       ...  ...       ...      ...      ...      ...   \n",
       "142493  0.019117 -0.49623   5.29140  ... -0.178480  -5.5356  -3.8215 -0.55360   \n",
       "142494 -0.011872 -0.50223  10.08500  ... -0.179230 -14.8040 -15.4720  2.37370   \n",
       "142497 -0.061046 -0.39099  13.24800  ... -0.221780 -11.9110   5.8818 -2.77030   \n",
       "142498 -0.060004 -0.35699   7.71570  ... -0.198950  -9.7683  -3.6667 -0.89959   \n",
       "142499 -0.068852 -0.38543   2.98160  ... -0.164370 -12.0130  -4.0103  2.09460   \n",
       "\n",
       "        LL_xgyro  LL_ygyro  LL_zgyro  LL_xmag  LL_ymag   LL_zmag  \n",
       "0      -0.000232 -0.012092 -0.004457  0.74017  0.30053 -0.057730  \n",
       "1      -0.014784 -0.016477  0.002789  0.73937  0.30183 -0.057514  \n",
       "2      -0.012770  0.005717 -0.007918  0.73955  0.30052 -0.057219  \n",
       "3      -0.005725  0.009620  0.006555  0.74029  0.30184 -0.057750  \n",
       "4      -0.003929 -0.008371  0.002816  0.73845  0.30090 -0.057527  \n",
       "...          ...       ...       ...      ...      ...       ...  \n",
       "142493  0.074623  0.883480  0.168770  0.59015  0.91801  0.084023  \n",
       "142494  0.229380  0.468500 -0.643740  0.58371  0.92602  0.093612  \n",
       "142497 -0.563030  0.869330  0.726270  0.61198  0.90992  0.146550  \n",
       "142498  0.693270  0.428480  0.884290  0.64304  0.89064  0.144460  \n",
       "142499 -0.120770  0.222800  0.768400  0.66904  0.87302  0.142560  \n",
       "\n",
       "[98616 rows x 45 columns]"
      ]
     },
     "execution_count": 56,
     "metadata": {},
     "output_type": "execute_result"
    }
   ],
   "source": [
    "y = data[\"Activity\"]\n",
    "X = data.drop([\"Activity\"], axis=1)\n",
    "X"
   ]
  },
  {
   "cell_type": "code",
   "execution_count": null,
   "id": "1bc6091a",
   "metadata": {},
   "outputs": [],
   "source": []
  },
  {
   "cell_type": "code",
   "execution_count": 57,
   "id": "3fe74fe6",
   "metadata": {},
   "outputs": [],
   "source": [
    "#checking the acuraccy of the regression model"
   ]
  },
  {
   "cell_type": "code",
   "execution_count": 58,
   "id": "7918592b",
   "metadata": {},
   "outputs": [
    {
     "name": "stderr",
     "output_type": "stream",
     "text": [
      "C:\\Users\\anoop\\Downloads\\INDU\\lib\\site-packages\\sklearn\\linear_model\\_logistic.py:763: ConvergenceWarning: lbfgs failed to converge (status=1):\n",
      "STOP: TOTAL NO. of ITERATIONS REACHED LIMIT.\n",
      "\n",
      "Increase the number of iterations (max_iter) or scale the data as shown in:\n",
      "    https://scikit-learn.org/stable/modules/preprocessing.html\n",
      "Please also refer to the documentation for alternative solver options:\n",
      "    https://scikit-learn.org/stable/modules/linear_model.html#logistic-regression\n",
      "  n_iter_i = _check_optimize_result(\n"
     ]
    }
   ],
   "source": [
    "X_train,X_test,y_train,y_test = train_test_split(X,y,random_state=42,test_size=0.25)\n",
    "lr = linear_model.LogisticRegression()\n",
    "model = lr.fit(X_train,y_train)\n",
    "predictions = model.predict(X_test)"
   ]
  },
  {
   "cell_type": "code",
   "execution_count": 59,
   "id": "8305d360",
   "metadata": {},
   "outputs": [
    {
     "name": "stdout",
     "output_type": "stream",
     "text": [
      "[[1357    0    0    0    0    0    0    2    5    0    0    0    0    2\n",
      "     0    1    6]\n",
      " [   0 1219    0    0    0    1    1   30    2    0    0    0   16    2\n",
      "     0    0    1]\n",
      " [   0    0 1269    1    0    0    1    0    0    0    0    0    0    0\n",
      "     0    3    0]\n",
      " [   0    0    0 1643    1    0    0    0    0    0    0    0    0    0\n",
      "     0    0    0]\n",
      " [   0    0    0    0 1759    5    0   11   13    0    8    0    0    0\n",
      "     0    1    1]\n",
      " [   0    0    0    0    1 1404    1    0   54    0    0    0    2    1\n",
      "     0    0    5]\n",
      " [  16    0    0    0    0    0  244    2    4    0    1    2    1    0\n",
      "     0    0    3]\n",
      " [  10   23    0    1    7   12    2 1682   40    0    0    0    9   19\n",
      "     0    1    7]\n",
      " [  18    7    0   11   37   94   10   38  919    2    6    0    2    6\n",
      "     5   10   18]\n",
      " [   0    0    6    0    0    0    0    0    0 1288    0    0    0    0\n",
      "     1    0    0]\n",
      " [   0    0    2    1    6    2    0    9    1    0  231    0    2    0\n",
      "    32    5    0]\n",
      " [   0    0    0    0    0    0    0    0    0    0    0 1851    0    0\n",
      "     0    0    0]\n",
      " [   0    0    0    0    0    0    0    0    0    0    0    0 1885    0\n",
      "     0    0    0]\n",
      " [   0    0    0    0    0    0    0   13    0    0    0    0    0 1838\n",
      "     0    0    0]\n",
      " [   0    0    0    2    9    1    0    0    0    0    2    0    0    0\n",
      "  1639   14    0]\n",
      " [   0    0    0    0    3    0    0    0    0    0    2    0    0    0\n",
      "    13 1824    0]\n",
      " [   0    0    0    0    0    0    0    9    0    0    0    0    0    0\n",
      "     0    0 1865]]\n"
     ]
    }
   ],
   "source": [
    "print(confusion_matrix(y_test, predictions))"
   ]
  },
  {
   "cell_type": "code",
   "execution_count": 60,
   "id": "cf0f03f6",
   "metadata": {},
   "outputs": [
    {
     "name": "stdout",
     "output_type": "stream",
     "text": [
      "                                     precision    recall  f1-score   support\n",
      "\n",
      "                   Ascending stairs       0.97      0.99      0.98      1373\n",
      "                   Decending stairs       0.98      0.96      0.97      1272\n",
      "     cycling in horizontal position       0.99      1.00      0.99      1274\n",
      "       cycling in vertical position       0.99      1.00      0.99      1644\n",
      "      exercising on a cross trainer       0.96      0.98      0.97      1798\n",
      "            exercising on a stepper       0.92      0.96      0.94      1468\n",
      "                            jumping       0.94      0.89      0.92       273\n",
      "       moving around in an elevator       0.94      0.93      0.93      1813\n",
      "                 playing basketball       0.89      0.78      0.83      1183\n",
      "                             rowing       1.00      0.99      1.00      1295\n",
      "                  running (8 km/hr)       0.92      0.79      0.85       291\n",
      "                            sitting       1.00      1.00      1.00      1851\n",
      "                           standing       0.98      1.00      0.99      1885\n",
      "            standing in an elevator       0.98      0.99      0.99      1851\n",
      "walking (4 km/h) in 15 deg inclined       0.97      0.98      0.98      1667\n",
      "           walking (4 km/h) in flat       0.98      0.99      0.99      1842\n",
      "           walking in a parking lot       0.98      1.00      0.99      1874\n",
      "\n",
      "                           accuracy                           0.97     24654\n",
      "                          macro avg       0.96      0.95      0.96     24654\n",
      "                       weighted avg       0.97      0.97      0.97     24654\n",
      "\n"
     ]
    }
   ],
   "source": [
    "print(classification_report(y_test, predictions))"
   ]
  },
  {
   "cell_type": "markdown",
   "id": "16bb68b9",
   "metadata": {},
   "source": [
    "# 6.Feature Reduction"
   ]
  },
  {
   "cell_type": "code",
   "execution_count": 61,
   "id": "27ae18a7",
   "metadata": {},
   "outputs": [],
   "source": [
    "#creating correlation matrix\n",
    "CorrMartix = data[['RL_xacc', 'RL_yacc', 'RL_zacc', 'RL_xgyro', 'RL_ygyro', 'RL_zgyro','RL_xmag', 'RL_ymag','RL_zmag', \n",
    "         'LL_xacc', 'LL_yacc', 'LL_zacc', 'LL_xgyro', 'LL_ygyro', 'LL_zgyro','LL_xmag', 'LL_ymag', 'LL_zmag']].corr()"
   ]
  },
  {
   "cell_type": "code",
   "execution_count": 62,
   "id": "ec95fd4b",
   "metadata": {},
   "outputs": [
    {
     "data": {
      "text/plain": [
       "<AxesSubplot:>"
      ]
     },
     "execution_count": 62,
     "metadata": {},
     "output_type": "execute_result"
    },
    {
     "data": {
      "image/png": "[encoded data removed]",
      "text/plain": [
       "<Figure size 1296x1296 with 2 Axes>"
      ]
     },
     "metadata": {
      "needs_background": "light"
     },
     "output_type": "display_data"
    }
   ],
   "source": [
    "plt.subplots(figsize=(18, 18))\n",
    "sns.heatmap(CorrMartix,vmin=-.02,vmax=1,annot=True,linewidth=0.2)"
   ]
  },
  {
   "cell_type": "code",
   "execution_count": 63,
   "id": "9bf85a20",
   "metadata": {},
   "outputs": [
    {
     "data": {
      "text/plain": [
       "<AxesSubplot:>"
      ]
     },
     "execution_count": 63,
     "metadata": {},
     "output_type": "execute_result"
    },
    {
     "data": {
      "image/png": "[encoded data removed]",
      "text/plain": [
       "<Figure size 1296x1296 with 2 Axes>"
      ]
     },
     "metadata": {
      "needs_background": "light"
     },
     "output_type": "display_data"
    }
   ],
   "source": [
    "CorrMartix1 = data[['RA_xacc', 'RA_yacc', 'RA_zacc', 'RA_xgyro', 'RA_ygyro', 'RA_zgyro','RA_xmag','RA_zmag','RA_ymag', \n",
    "         'LA_xacc', 'LA_yacc', 'LA_zacc', 'LA_xgyro', 'LA_ygyro', 'LA_zgyro','LA_xmag', 'LA_ymag', 'LA_zmag']].corr()\n",
    "plt.subplots(figsize=(18, 18))\n",
    "sns.heatmap(CorrMartix1,vmin=-.07,vmax=1,annot=True,linewidth=0.2)"
   ]
  },
  {
   "cell_type": "code",
   "execution_count": 64,
   "id": "d9cfd6a7",
   "metadata": {},
   "outputs": [],
   "source": [
    "X= data.drop(['LA_yacc','RA_zmag','LA_zacc','LL_xacc','LL_zgyro','Activity'], axis=1)\n",
    "y=data[\"Activity\"]"
   ]
  },
  {
   "cell_type": "code",
   "execution_count": 65,
   "id": "7a04a6ef",
   "metadata": {},
   "outputs": [
    {
     "name": "stderr",
     "output_type": "stream",
     "text": [
      "C:\\Users\\anoop\\Downloads\\INDU\\lib\\site-packages\\sklearn\\linear_model\\_logistic.py:763: ConvergenceWarning: lbfgs failed to converge (status=1):\n",
      "STOP: TOTAL NO. of ITERATIONS REACHED LIMIT.\n",
      "\n",
      "Increase the number of iterations (max_iter) or scale the data as shown in:\n",
      "    https://scikit-learn.org/stable/modules/preprocessing.html\n",
      "Please also refer to the documentation for alternative solver options:\n",
      "    https://scikit-learn.org/stable/modules/linear_model.html#logistic-regression\n",
      "  n_iter_i = _check_optimize_result(\n"
     ]
    }
   ],
   "source": [
    "X_train,X_test,y_train,y_test = train_test_split(X,y,random_state=42,test_size=0.25)\n",
    "lr=linear_model.LogisticRegression()\n",
    "model=lr.fit(X_train,y_train)\n",
    "predictions=model.predict(X_test)"
   ]
  },
  {
   "cell_type": "code",
   "execution_count": 66,
   "id": "15bc8480",
   "metadata": {},
   "outputs": [
    {
     "name": "stdout",
     "output_type": "stream",
     "text": [
      "[[1347    0    1    0    0    0    2    5    2    0    0    0    0    8\n",
      "     0    0    8]\n",
      " [   0 1213    1    0    0    3    0   27    1    0    0    0   25    0\n",
      "     0    0    2]\n",
      " [   0    0 1265    2    1    0    0    0    0    4    0    1    0    0\n",
      "     0    1    0]\n",
      " [   0    0    0 1642    0    0    1    0    0    1    0    0    0    0\n",
      "     0    0    0]\n",
      " [   0    0    0    0 1773    0    1    3   19    0    2    0    0    0\n",
      "     0    0    0]\n",
      " [   0    0    0    0    1 1428    0    0   31    0    0    0    8    0\n",
      "     0    0    0]\n",
      " [  20    0    0    0    0    0  236    3   13    0    0    0    0    0\n",
      "     0    0    1]\n",
      " [  11   20    0    0   17    7    2 1646   74    0    0    0    7   11\n",
      "     0    0   18]\n",
      " [  14   10    5    5   29  116   14   30  906    3    8    1    6    7\n",
      "     6    5   18]\n",
      " [   0    0    1    0    0    0    0    0    0 1286    0    0    1    0\n",
      "     7    0    0]\n",
      " [   0    0    3    0    4    8    1    8    1    2  202    0    2    1\n",
      "    52    7    0]\n",
      " [   0    0    0    0    0    0    0    0    0    0    0 1851    0    0\n",
      "     0    0    0]\n",
      " [   0    0    0    0    0    0    0    0    0    0    0    0 1885    0\n",
      "     0    0    0]\n",
      " [   0    0    0    0    0    0    0   12    0    0    0    0    0 1828\n",
      "     0    0   11]\n",
      " [   0    0    0    0    5    0    0    0    0    0    2    0    0    0\n",
      "  1642   18    0]\n",
      " [   0    0    0    0    6    0    0    0    0    0    1    0    1    0\n",
      "    12 1822    0]\n",
      " [   0    1    0    0    0    0    0    7    0    0    0    0    0    0\n",
      "     0    0 1866]]\n",
      "                                     precision    recall  f1-score   support\n",
      "\n",
      "                   Ascending stairs       0.97      0.98      0.97      1373\n",
      "                   Decending stairs       0.98      0.95      0.96      1272\n",
      "     cycling in horizontal position       0.99      0.99      0.99      1274\n",
      "       cycling in vertical position       1.00      1.00      1.00      1644\n",
      "      exercising on a cross trainer       0.97      0.99      0.98      1798\n",
      "            exercising on a stepper       0.91      0.97      0.94      1468\n",
      "                            jumping       0.92      0.86      0.89       273\n",
      "       moving around in an elevator       0.95      0.91      0.93      1813\n",
      "                 playing basketball       0.87      0.77      0.81      1183\n",
      "                             rowing       0.99      0.99      0.99      1295\n",
      "                  running (8 km/hr)       0.94      0.69      0.80       291\n",
      "                            sitting       1.00      1.00      1.00      1851\n",
      "                           standing       0.97      1.00      0.99      1885\n",
      "            standing in an elevator       0.99      0.99      0.99      1851\n",
      "walking (4 km/h) in 15 deg inclined       0.96      0.99      0.97      1667\n",
      "           walking (4 km/h) in flat       0.98      0.99      0.99      1842\n",
      "           walking in a parking lot       0.97      1.00      0.98      1874\n",
      "\n",
      "                           accuracy                           0.97     24654\n",
      "                          macro avg       0.96      0.95      0.95     24654\n",
      "                       weighted avg       0.97      0.97      0.97     24654\n",
      "\n"
     ]
    }
   ],
   "source": [
    "print(confusion_matrix(y_test, predictions))\n",
    "print(classification_report(y_test, predictions))"
   ]
  },
  {
   "cell_type": "markdown",
   "id": "88713ca7",
   "metadata": {},
   "source": [
    "# 7.Standardization/Normalization"
   ]
  },
  {
   "cell_type": "code",
   "execution_count": 67,
   "id": "7050fee6",
   "metadata": {},
   "outputs": [
    {
     "data": {
      "text/html": [
       "<div>\n",
       "<style scoped>\n",
       "    .dataframe tbody tr th:only-of-type {\n",
       "        vertical-align: middle;\n",
       "    }\n",
       "\n",
       "    .dataframe tbody tr th {\n",
       "        vertical-align: top;\n",
       "    }\n",
       "\n",
       "    .dataframe thead th {\n",
       "        text-align: right;\n",
       "    }\n",
       "</style>\n",
       "<table border=\"1\" class=\"dataframe\">\n",
       "  <thead>\n",
       "    <tr style=\"text-align: right;\">\n",
       "      <th></th>\n",
       "      <th>T_xacc</th>\n",
       "      <th>T_yacc</th>\n",
       "      <th>T_zacc</th>\n",
       "      <th>T_xgyro</th>\n",
       "      <th>T_ygyro</th>\n",
       "      <th>T_zgyro</th>\n",
       "      <th>T_xmag</th>\n",
       "      <th>T_ymag</th>\n",
       "      <th>T_zmag</th>\n",
       "      <th>RA_xacc</th>\n",
       "      <th>...</th>\n",
       "      <th>RL_xmag</th>\n",
       "      <th>RL_ymag</th>\n",
       "      <th>RL_zmag</th>\n",
       "      <th>LL_yacc</th>\n",
       "      <th>LL_zacc</th>\n",
       "      <th>LL_xgyro</th>\n",
       "      <th>LL_ygyro</th>\n",
       "      <th>LL_xmag</th>\n",
       "      <th>LL_ymag</th>\n",
       "      <th>LL_zmag</th>\n",
       "    </tr>\n",
       "  </thead>\n",
       "  <tbody>\n",
       "    <tr>\n",
       "      <th>count</th>\n",
       "      <td>98616.000000</td>\n",
       "      <td>98616.000000</td>\n",
       "      <td>98616.000000</td>\n",
       "      <td>98616.000000</td>\n",
       "      <td>98616.000000</td>\n",
       "      <td>98616.000000</td>\n",
       "      <td>98616.000000</td>\n",
       "      <td>98616.000000</td>\n",
       "      <td>98616.000000</td>\n",
       "      <td>98616.000000</td>\n",
       "      <td>...</td>\n",
       "      <td>98616.000000</td>\n",
       "      <td>98616.000000</td>\n",
       "      <td>98616.000000</td>\n",
       "      <td>98616.000000</td>\n",
       "      <td>98616.000000</td>\n",
       "      <td>98616.000000</td>\n",
       "      <td>98616.000000</td>\n",
       "      <td>98616.000000</td>\n",
       "      <td>98616.000000</td>\n",
       "      <td>98616.000000</td>\n",
       "    </tr>\n",
       "    <tr>\n",
       "      <th>mean</th>\n",
       "      <td>8.667610</td>\n",
       "      <td>0.396814</td>\n",
       "      <td>3.459619</td>\n",
       "      <td>-0.013321</td>\n",
       "      <td>0.035763</td>\n",
       "      <td>-0.006159</td>\n",
       "      <td>-0.652352</td>\n",
       "      <td>-0.082144</td>\n",
       "      <td>-0.324671</td>\n",
       "      <td>3.582594</td>\n",
       "      <td>...</td>\n",
       "      <td>0.466280</td>\n",
       "      <td>-0.254763</td>\n",
       "      <td>-0.075883</td>\n",
       "      <td>-2.856568</td>\n",
       "      <td>-0.117373</td>\n",
       "      <td>-0.007088</td>\n",
       "      <td>0.026586</td>\n",
       "      <td>0.472103</td>\n",
       "      <td>0.317099</td>\n",
       "      <td>0.058644</td>\n",
       "    </tr>\n",
       "    <tr>\n",
       "      <th>std</th>\n",
       "      <td>1.565093</td>\n",
       "      <td>1.279780</td>\n",
       "      <td>1.824218</td>\n",
       "      <td>0.631044</td>\n",
       "      <td>0.479603</td>\n",
       "      <td>0.256502</td>\n",
       "      <td>0.199966</td>\n",
       "      <td>0.284835</td>\n",
       "      <td>0.344183</td>\n",
       "      <td>4.805685</td>\n",
       "      <td>...</td>\n",
       "      <td>0.294645</td>\n",
       "      <td>0.379782</td>\n",
       "      <td>0.288146</td>\n",
       "      <td>4.508681</td>\n",
       "      <td>1.757470</td>\n",
       "      <td>0.748015</td>\n",
       "      <td>0.341903</td>\n",
       "      <td>0.291997</td>\n",
       "      <td>0.345460</td>\n",
       "      <td>0.306859</td>\n",
       "    </tr>\n",
       "    <tr>\n",
       "      <th>min</th>\n",
       "      <td>2.835000</td>\n",
       "      <td>-20.866000</td>\n",
       "      <td>-11.733000</td>\n",
       "      <td>-5.505600</td>\n",
       "      <td>-9.824700</td>\n",
       "      <td>-4.009300</td>\n",
       "      <td>-1.051000</td>\n",
       "      <td>-0.742470</td>\n",
       "      <td>-1.016900</td>\n",
       "      <td>-11.445000</td>\n",
       "      <td>...</td>\n",
       "      <td>-0.569150</td>\n",
       "      <td>-0.992450</td>\n",
       "      <td>-0.886080</td>\n",
       "      <td>-17.218000</td>\n",
       "      <td>-24.773000</td>\n",
       "      <td>-6.669700</td>\n",
       "      <td>-2.874500</td>\n",
       "      <td>-0.646870</td>\n",
       "      <td>-0.850280</td>\n",
       "      <td>-1.126000</td>\n",
       "    </tr>\n",
       "    <tr>\n",
       "      <th>25%</th>\n",
       "      <td>7.869300</td>\n",
       "      <td>-0.335685</td>\n",
       "      <td>2.536700</td>\n",
       "      <td>-0.180173</td>\n",
       "      <td>-0.125452</td>\n",
       "      <td>-0.103230</td>\n",
       "      <td>-0.793300</td>\n",
       "      <td>-0.227350</td>\n",
       "      <td>-0.657312</td>\n",
       "      <td>0.143830</td>\n",
       "      <td>...</td>\n",
       "      <td>0.361148</td>\n",
       "      <td>-0.523683</td>\n",
       "      <td>-0.282230</td>\n",
       "      <td>-6.528400</td>\n",
       "      <td>-1.036500</td>\n",
       "      <td>-0.370817</td>\n",
       "      <td>-0.089771</td>\n",
       "      <td>0.355250</td>\n",
       "      <td>0.102817</td>\n",
       "      <td>-0.078362</td>\n",
       "    </tr>\n",
       "    <tr>\n",
       "      <th>50%</th>\n",
       "      <td>8.582550</td>\n",
       "      <td>0.441575</td>\n",
       "      <td>3.538500</td>\n",
       "      <td>0.002605</td>\n",
       "      <td>0.021830</td>\n",
       "      <td>-0.003485</td>\n",
       "      <td>-0.687500</td>\n",
       "      <td>-0.111540</td>\n",
       "      <td>-0.400710</td>\n",
       "      <td>3.997200</td>\n",
       "      <td>...</td>\n",
       "      <td>0.483655</td>\n",
       "      <td>-0.276270</td>\n",
       "      <td>-0.060942</td>\n",
       "      <td>-1.504850</td>\n",
       "      <td>-0.480735</td>\n",
       "      <td>-0.006115</td>\n",
       "      <td>0.003001</td>\n",
       "      <td>0.486990</td>\n",
       "      <td>0.336010</td>\n",
       "      <td>0.066911</td>\n",
       "    </tr>\n",
       "    <tr>\n",
       "      <th>75%</th>\n",
       "      <td>9.375000</td>\n",
       "      <td>1.307200</td>\n",
       "      <td>4.804325</td>\n",
       "      <td>0.189880</td>\n",
       "      <td>0.187910</td>\n",
       "      <td>0.093749</td>\n",
       "      <td>-0.567215</td>\n",
       "      <td>0.039023</td>\n",
       "      <td>0.002682</td>\n",
       "      <td>7.856400</td>\n",
       "      <td>...</td>\n",
       "      <td>0.670473</td>\n",
       "      <td>-0.041402</td>\n",
       "      <td>0.127830</td>\n",
       "      <td>0.512007</td>\n",
       "      <td>0.778963</td>\n",
       "      <td>0.249355</td>\n",
       "      <td>0.147970</td>\n",
       "      <td>0.683950</td>\n",
       "      <td>0.577353</td>\n",
       "      <td>0.214463</td>\n",
       "    </tr>\n",
       "    <tr>\n",
       "      <th>max</th>\n",
       "      <td>13.358000</td>\n",
       "      <td>8.359400</td>\n",
       "      <td>29.974000</td>\n",
       "      <td>14.111000</td>\n",
       "      <td>7.491800</td>\n",
       "      <td>5.380200</td>\n",
       "      <td>0.982220</td>\n",
       "      <td>0.929370</td>\n",
       "      <td>0.778150</td>\n",
       "      <td>19.333000</td>\n",
       "      <td>...</td>\n",
       "      <td>1.139100</td>\n",
       "      <td>0.917560</td>\n",
       "      <td>0.852120</td>\n",
       "      <td>11.164000</td>\n",
       "      <td>20.768000</td>\n",
       "      <td>7.039800</td>\n",
       "      <td>4.822700</td>\n",
       "      <td>1.127200</td>\n",
       "      <td>1.020800</td>\n",
       "      <td>0.778180</td>\n",
       "    </tr>\n",
       "  </tbody>\n",
       "</table>\n",
       "<p>8 rows × 40 columns</p>\n",
       "</div>"
      ],
      "text/plain": [
       "             T_xacc        T_yacc        T_zacc       T_xgyro       T_ygyro  \\\n",
       "count  98616.000000  98616.000000  98616.000000  98616.000000  98616.000000   \n",
       "mean       8.667610      0.396814      3.459619     -0.013321      0.035763   \n",
       "std        1.565093      1.279780      1.824218      0.631044      0.479603   \n",
       "min        2.835000    -20.866000    -11.733000     -5.505600     -9.824700   \n",
       "25%        7.869300     -0.335685      2.536700     -0.180173     -0.125452   \n",
       "50%        8.582550      0.441575      3.538500      0.002605      0.021830   \n",
       "75%        9.375000      1.307200      4.804325      0.189880      0.187910   \n",
       "max       13.358000      8.359400     29.974000     14.111000      7.491800   \n",
       "\n",
       "            T_zgyro        T_xmag        T_ymag        T_zmag       RA_xacc  \\\n",
       "count  98616.000000  98616.000000  98616.000000  98616.000000  98616.000000   \n",
       "mean      -0.006159     -0.652352     -0.082144     -0.324671      3.582594   \n",
       "std        0.256502      0.199966      0.284835      0.344183      4.805685   \n",
       "min       -4.009300     -1.051000     -0.742470     -1.016900    -11.445000   \n",
       "25%       -0.103230     -0.793300     -0.227350     -0.657312      0.143830   \n",
       "50%       -0.003485     -0.687500     -0.111540     -0.400710      3.997200   \n",
       "75%        0.093749     -0.567215      0.039023      0.002682      7.856400   \n",
       "max        5.380200      0.982220      0.929370      0.778150     19.333000   \n",
       "\n",
       "       ...       RL_xmag       RL_ymag       RL_zmag       LL_yacc  \\\n",
       "count  ...  98616.000000  98616.000000  98616.000000  98616.000000   \n",
       "mean   ...      0.466280     -0.254763     -0.075883     -2.856568   \n",
       "std    ...      0.294645      0.379782      0.288146      4.508681   \n",
       "min    ...     -0.569150     -0.992450     -0.886080    -17.218000   \n",
       "25%    ...      0.361148     -0.523683     -0.282230     -6.528400   \n",
       "50%    ...      0.483655     -0.276270     -0.060942     -1.504850   \n",
       "75%    ...      0.670473     -0.041402      0.127830      0.512007   \n",
       "max    ...      1.139100      0.917560      0.852120     11.164000   \n",
       "\n",
       "            LL_zacc      LL_xgyro      LL_ygyro       LL_xmag       LL_ymag  \\\n",
       "count  98616.000000  98616.000000  98616.000000  98616.000000  98616.000000   \n",
       "mean      -0.117373     -0.007088      0.026586      0.472103      0.317099   \n",
       "std        1.757470      0.748015      0.341903      0.291997      0.345460   \n",
       "min      -24.773000     -6.669700     -2.874500     -0.646870     -0.850280   \n",
       "25%       -1.036500     -0.370817     -0.089771      0.355250      0.102817   \n",
       "50%       -0.480735     -0.006115      0.003001      0.486990      0.336010   \n",
       "75%        0.778963      0.249355      0.147970      0.683950      0.577353   \n",
       "max       20.768000      7.039800      4.822700      1.127200      1.020800   \n",
       "\n",
       "            LL_zmag  \n",
       "count  98616.000000  \n",
       "mean       0.058644  \n",
       "std        0.306859  \n",
       "min       -1.126000  \n",
       "25%       -0.078362  \n",
       "50%        0.066911  \n",
       "75%        0.214463  \n",
       "max        0.778180  \n",
       "\n",
       "[8 rows x 40 columns]"
      ]
     },
     "execution_count": 67,
     "metadata": {},
     "output_type": "execute_result"
    }
   ],
   "source": [
    "X.describe()"
   ]
  },
  {
   "cell_type": "code",
   "execution_count": 68,
   "id": "1e57756c",
   "metadata": {},
   "outputs": [],
   "source": [
    "#minmax scaling\n",
    "from sklearn import preprocessing\n",
    "min_max=preprocessing.MinMaxScaler(feature_range=(0,1))\n",
    "X=min_max.fit_transform(X)"
   ]
  },
  {
   "cell_type": "code",
   "execution_count": 69,
   "id": "a4cbb8de",
   "metadata": {},
   "outputs": [],
   "source": [
    "X=pd.DataFrame(X)"
   ]
  },
  {
   "cell_type": "code",
   "execution_count": 70,
   "id": "ca096f94",
   "metadata": {},
   "outputs": [
    {
     "data": {
      "text/html": [
       "<div>\n",
       "<style scoped>\n",
       "    .dataframe tbody tr th:only-of-type {\n",
       "        vertical-align: middle;\n",
       "    }\n",
       "\n",
       "    .dataframe tbody tr th {\n",
       "        vertical-align: top;\n",
       "    }\n",
       "\n",
       "    .dataframe thead th {\n",
       "        text-align: right;\n",
       "    }\n",
       "</style>\n",
       "<table border=\"1\" class=\"dataframe\">\n",
       "  <thead>\n",
       "    <tr style=\"text-align: right;\">\n",
       "      <th></th>\n",
       "      <th>0</th>\n",
       "      <th>1</th>\n",
       "      <th>2</th>\n",
       "      <th>3</th>\n",
       "      <th>4</th>\n",
       "      <th>5</th>\n",
       "      <th>6</th>\n",
       "      <th>7</th>\n",
       "      <th>8</th>\n",
       "      <th>9</th>\n",
       "      <th>...</th>\n",
       "      <th>30</th>\n",
       "      <th>31</th>\n",
       "      <th>32</th>\n",
       "      <th>33</th>\n",
       "      <th>34</th>\n",
       "      <th>35</th>\n",
       "      <th>36</th>\n",
       "      <th>37</th>\n",
       "      <th>38</th>\n",
       "      <th>39</th>\n",
       "    </tr>\n",
       "  </thead>\n",
       "  <tbody>\n",
       "    <tr>\n",
       "      <th>count</th>\n",
       "      <td>98616.000000</td>\n",
       "      <td>98616.000000</td>\n",
       "      <td>98616.000000</td>\n",
       "      <td>98616.000000</td>\n",
       "      <td>98616.000000</td>\n",
       "      <td>98616.000000</td>\n",
       "      <td>98616.000000</td>\n",
       "      <td>98616.000000</td>\n",
       "      <td>98616.000000</td>\n",
       "      <td>98616.000000</td>\n",
       "      <td>...</td>\n",
       "      <td>98616.000000</td>\n",
       "      <td>98616.000000</td>\n",
       "      <td>98616.000000</td>\n",
       "      <td>98616.000000</td>\n",
       "      <td>98616.000000</td>\n",
       "      <td>98616.000000</td>\n",
       "      <td>98616.000000</td>\n",
       "      <td>98616.000000</td>\n",
       "      <td>98616.000000</td>\n",
       "      <td>98616.000000</td>\n",
       "    </tr>\n",
       "    <tr>\n",
       "      <th>mean</th>\n",
       "      <td>0.554273</td>\n",
       "      <td>0.727546</td>\n",
       "      <td>0.364270</td>\n",
       "      <td>0.279981</td>\n",
       "      <td>0.569426</td>\n",
       "      <td>0.426342</td>\n",
       "      <td>0.196067</td>\n",
       "      <td>0.394969</td>\n",
       "      <td>0.385632</td>\n",
       "      <td>0.488258</td>\n",
       "      <td>...</td>\n",
       "      <td>0.606135</td>\n",
       "      <td>0.386222</td>\n",
       "      <td>0.466112</td>\n",
       "      <td>0.506005</td>\n",
       "      <td>0.541394</td>\n",
       "      <td>0.485985</td>\n",
       "      <td>0.376901</td>\n",
       "      <td>0.630738</td>\n",
       "      <td>0.623906</td>\n",
       "      <td>0.622128</td>\n",
       "    </tr>\n",
       "    <tr>\n",
       "      <th>std</th>\n",
       "      <td>0.148731</td>\n",
       "      <td>0.043790</td>\n",
       "      <td>0.043739</td>\n",
       "      <td>0.032169</td>\n",
       "      <td>0.027696</td>\n",
       "      <td>0.027318</td>\n",
       "      <td>0.098349</td>\n",
       "      <td>0.170372</td>\n",
       "      <td>0.191740</td>\n",
       "      <td>0.156140</td>\n",
       "      <td>...</td>\n",
       "      <td>0.172484</td>\n",
       "      <td>0.198838</td>\n",
       "      <td>0.165773</td>\n",
       "      <td>0.158857</td>\n",
       "      <td>0.038591</td>\n",
       "      <td>0.054562</td>\n",
       "      <td>0.044419</td>\n",
       "      <td>0.164592</td>\n",
       "      <td>0.184632</td>\n",
       "      <td>0.161150</td>\n",
       "    </tr>\n",
       "    <tr>\n",
       "      <th>min</th>\n",
       "      <td>0.000000</td>\n",
       "      <td>0.000000</td>\n",
       "      <td>0.000000</td>\n",
       "      <td>0.000000</td>\n",
       "      <td>0.000000</td>\n",
       "      <td>0.000000</td>\n",
       "      <td>0.000000</td>\n",
       "      <td>0.000000</td>\n",
       "      <td>0.000000</td>\n",
       "      <td>0.000000</td>\n",
       "      <td>...</td>\n",
       "      <td>0.000000</td>\n",
       "      <td>0.000000</td>\n",
       "      <td>0.000000</td>\n",
       "      <td>0.000000</td>\n",
       "      <td>0.000000</td>\n",
       "      <td>0.000000</td>\n",
       "      <td>0.000000</td>\n",
       "      <td>0.000000</td>\n",
       "      <td>0.000000</td>\n",
       "      <td>0.000000</td>\n",
       "    </tr>\n",
       "    <tr>\n",
       "      <th>25%</th>\n",
       "      <td>0.478409</td>\n",
       "      <td>0.702482</td>\n",
       "      <td>0.342142</td>\n",
       "      <td>0.271476</td>\n",
       "      <td>0.560116</td>\n",
       "      <td>0.416004</td>\n",
       "      <td>0.126745</td>\n",
       "      <td>0.308116</td>\n",
       "      <td>0.200322</td>\n",
       "      <td>0.376530</td>\n",
       "      <td>...</td>\n",
       "      <td>0.544591</td>\n",
       "      <td>0.245427</td>\n",
       "      <td>0.347400</td>\n",
       "      <td>0.376633</td>\n",
       "      <td>0.521212</td>\n",
       "      <td>0.459454</td>\n",
       "      <td>0.361785</td>\n",
       "      <td>0.564871</td>\n",
       "      <td>0.509384</td>\n",
       "      <td>0.550178</td>\n",
       "    </tr>\n",
       "    <tr>\n",
       "      <th>50%</th>\n",
       "      <td>0.546189</td>\n",
       "      <td>0.729077</td>\n",
       "      <td>0.366162</td>\n",
       "      <td>0.280793</td>\n",
       "      <td>0.568621</td>\n",
       "      <td>0.426627</td>\n",
       "      <td>0.178780</td>\n",
       "      <td>0.377387</td>\n",
       "      <td>0.343272</td>\n",
       "      <td>0.501729</td>\n",
       "      <td>...</td>\n",
       "      <td>0.616306</td>\n",
       "      <td>0.374961</td>\n",
       "      <td>0.474708</td>\n",
       "      <td>0.553631</td>\n",
       "      <td>0.533415</td>\n",
       "      <td>0.486056</td>\n",
       "      <td>0.373837</td>\n",
       "      <td>0.639129</td>\n",
       "      <td>0.634014</td>\n",
       "      <td>0.626470</td>\n",
       "    </tr>\n",
       "    <tr>\n",
       "      <th>75%</th>\n",
       "      <td>0.621496</td>\n",
       "      <td>0.758696</td>\n",
       "      <td>0.396512</td>\n",
       "      <td>0.290340</td>\n",
       "      <td>0.578212</td>\n",
       "      <td>0.436983</td>\n",
       "      <td>0.237940</td>\n",
       "      <td>0.467445</td>\n",
       "      <td>0.567997</td>\n",
       "      <td>0.627117</td>\n",
       "      <td>...</td>\n",
       "      <td>0.725668</td>\n",
       "      <td>0.497928</td>\n",
       "      <td>0.583310</td>\n",
       "      <td>0.624692</td>\n",
       "      <td>0.561076</td>\n",
       "      <td>0.504691</td>\n",
       "      <td>0.392671</td>\n",
       "      <td>0.750151</td>\n",
       "      <td>0.762999</td>\n",
       "      <td>0.703958</td>\n",
       "    </tr>\n",
       "    <tr>\n",
       "      <th>max</th>\n",
       "      <td>1.000000</td>\n",
       "      <td>1.000000</td>\n",
       "      <td>1.000000</td>\n",
       "      <td>1.000000</td>\n",
       "      <td>1.000000</td>\n",
       "      <td>1.000000</td>\n",
       "      <td>1.000000</td>\n",
       "      <td>1.000000</td>\n",
       "      <td>1.000000</td>\n",
       "      <td>1.000000</td>\n",
       "      <td>...</td>\n",
       "      <td>1.000000</td>\n",
       "      <td>1.000000</td>\n",
       "      <td>1.000000</td>\n",
       "      <td>1.000000</td>\n",
       "      <td>1.000000</td>\n",
       "      <td>1.000000</td>\n",
       "      <td>1.000000</td>\n",
       "      <td>1.000000</td>\n",
       "      <td>1.000000</td>\n",
       "      <td>1.000000</td>\n",
       "    </tr>\n",
       "  </tbody>\n",
       "</table>\n",
       "<p>8 rows × 40 columns</p>\n",
       "</div>"
      ],
      "text/plain": [
       "                 0             1             2             3             4   \\\n",
       "count  98616.000000  98616.000000  98616.000000  98616.000000  98616.000000   \n",
       "mean       0.554273      0.727546      0.364270      0.279981      0.569426   \n",
       "std        0.148731      0.043790      0.043739      0.032169      0.027696   \n",
       "min        0.000000      0.000000      0.000000      0.000000      0.000000   \n",
       "25%        0.478409      0.702482      0.342142      0.271476      0.560116   \n",
       "50%        0.546189      0.729077      0.366162      0.280793      0.568621   \n",
       "75%        0.621496      0.758696      0.396512      0.290340      0.578212   \n",
       "max        1.000000      1.000000      1.000000      1.000000      1.000000   \n",
       "\n",
       "                 5             6             7             8             9   \\\n",
       "count  98616.000000  98616.000000  98616.000000  98616.000000  98616.000000   \n",
       "mean       0.426342      0.196067      0.394969      0.385632      0.488258   \n",
       "std        0.027318      0.098349      0.170372      0.191740      0.156140   \n",
       "min        0.000000      0.000000      0.000000      0.000000      0.000000   \n",
       "25%        0.416004      0.126745      0.308116      0.200322      0.376530   \n",
       "50%        0.426627      0.178780      0.377387      0.343272      0.501729   \n",
       "75%        0.436983      0.237940      0.467445      0.567997      0.627117   \n",
       "max        1.000000      1.000000      1.000000      1.000000      1.000000   \n",
       "\n",
       "       ...            30            31            32            33  \\\n",
       "count  ...  98616.000000  98616.000000  98616.000000  98616.000000   \n",
       "mean   ...      0.606135      0.386222      0.466112      0.506005   \n",
       "std    ...      0.172484      0.198838      0.165773      0.158857   \n",
       "min    ...      0.000000      0.000000      0.000000      0.000000   \n",
       "25%    ...      0.544591      0.245427      0.347400      0.376633   \n",
       "50%    ...      0.616306      0.374961      0.474708      0.553631   \n",
       "75%    ...      0.725668      0.497928      0.583310      0.624692   \n",
       "max    ...      1.000000      1.000000      1.000000      1.000000   \n",
       "\n",
       "                 34            35            36            37            38  \\\n",
       "count  98616.000000  98616.000000  98616.000000  98616.000000  98616.000000   \n",
       "mean       0.541394      0.485985      0.376901      0.630738      0.623906   \n",
       "std        0.038591      0.054562      0.044419      0.164592      0.184632   \n",
       "min        0.000000      0.000000      0.000000      0.000000      0.000000   \n",
       "25%        0.521212      0.459454      0.361785      0.564871      0.509384   \n",
       "50%        0.533415      0.486056      0.373837      0.639129      0.634014   \n",
       "75%        0.561076      0.504691      0.392671      0.750151      0.762999   \n",
       "max        1.000000      1.000000      1.000000      1.000000      1.000000   \n",
       "\n",
       "                 39  \n",
       "count  98616.000000  \n",
       "mean       0.622128  \n",
       "std        0.161150  \n",
       "min        0.000000  \n",
       "25%        0.550178  \n",
       "50%        0.626470  \n",
       "75%        0.703958  \n",
       "max        1.000000  \n",
       "\n",
       "[8 rows x 40 columns]"
      ]
     },
     "execution_count": 70,
     "metadata": {},
     "output_type": "execute_result"
    }
   ],
   "source": [
    "X.describe()"
   ]
  },
  {
   "cell_type": "code",
   "execution_count": 71,
   "id": "160e4b60",
   "metadata": {},
   "outputs": [
    {
     "name": "stderr",
     "output_type": "stream",
     "text": [
      "C:\\Users\\anoop\\Downloads\\INDU\\lib\\site-packages\\sklearn\\linear_model\\_logistic.py:763: ConvergenceWarning: lbfgs failed to converge (status=1):\n",
      "STOP: TOTAL NO. of ITERATIONS REACHED LIMIT.\n",
      "\n",
      "Increase the number of iterations (max_iter) or scale the data as shown in:\n",
      "    https://scikit-learn.org/stable/modules/preprocessing.html\n",
      "Please also refer to the documentation for alternative solver options:\n",
      "    https://scikit-learn.org/stable/modules/linear_model.html#logistic-regression\n",
      "  n_iter_i = _check_optimize_result(\n"
     ]
    },
    {
     "name": "stdout",
     "output_type": "stream",
     "text": [
      "[[1363    0    0    0    0    0    0    0    0    0    0    0    0    0\n",
      "     0    0   10]\n",
      " [   0 1260    0    0    0    0    0   12    0    0    0    0    0    0\n",
      "     0    0    0]\n",
      " [   0    0 1274    0    0    0    0    0    0    0    0    0    0    0\n",
      "     0    0    0]\n",
      " [   0    0    0 1644    0    0    0    0    0    0    0    0    0    0\n",
      "     0    0    0]\n",
      " [   0    0    0    0 1798    0    0    0    0    0    0    0    0    0\n",
      "     0    0    0]\n",
      " [   0    0    0    0    0 1464    0    0    4    0    0    0    0    0\n",
      "     0    0    0]\n",
      " [   3    0    0    0    0    0  270    0    0    0    0    0    0    0\n",
      "     0    0    0]\n",
      " [   3   14    0    0    0    0    1 1736   50    0    0    0    2    6\n",
      "     0    0    1]\n",
      " [   6   15    1    1    5   59    2   29 1043    0    0    2    2    1\n",
      "     2    6    9]\n",
      " [   0    0    0    0    0    0    0    0    0 1295    0    0    0    0\n",
      "     0    0    0]\n",
      " [   0    0    0    0    0    2    0    0    0    0  212    0    0    2\n",
      "    68    7    0]\n",
      " [   0    0    0    0    0    0    0    0    0    0    0 1851    0    0\n",
      "     0    0    0]\n",
      " [   0    0    0    0    0    0    0    0    0    0    0    0 1885    0\n",
      "     0    0    0]\n",
      " [   0    0    0    0    0    0    0    0    0    0    0    0    0 1851\n",
      "     0    0    0]\n",
      " [   0    0    0    0    1    0    1    0    0    0    2    0    0    0\n",
      "  1662    1    0]\n",
      " [   0    0    0    0    0    0    0    0    0    0    0    0    0    0\n",
      "    16 1826    0]\n",
      " [   0    0    0    0    0    0    0    0    0    0    0    0    0    0\n",
      "     0    0 1874]]\n",
      "                                     precision    recall  f1-score   support\n",
      "\n",
      "                   Ascending stairs       0.99      0.99      0.99      1373\n",
      "                   Decending stairs       0.98      0.99      0.98      1272\n",
      "     cycling in horizontal position       1.00      1.00      1.00      1274\n",
      "       cycling in vertical position       1.00      1.00      1.00      1644\n",
      "      exercising on a cross trainer       1.00      1.00      1.00      1798\n",
      "            exercising on a stepper       0.96      1.00      0.98      1468\n",
      "                            jumping       0.99      0.99      0.99       273\n",
      "       moving around in an elevator       0.98      0.96      0.97      1813\n",
      "                 playing basketball       0.95      0.88      0.91      1183\n",
      "                             rowing       1.00      1.00      1.00      1295\n",
      "                  running (8 km/hr)       0.99      0.73      0.84       291\n",
      "                            sitting       1.00      1.00      1.00      1851\n",
      "                           standing       1.00      1.00      1.00      1885\n",
      "            standing in an elevator       1.00      1.00      1.00      1851\n",
      "walking (4 km/h) in 15 deg inclined       0.95      1.00      0.97      1667\n",
      "           walking (4 km/h) in flat       0.99      0.99      0.99      1842\n",
      "           walking in a parking lot       0.99      1.00      0.99      1874\n",
      "\n",
      "                           accuracy                           0.99     24654\n",
      "                          macro avg       0.99      0.97      0.98     24654\n",
      "                       weighted avg       0.99      0.99      0.99     24654\n",
      "\n"
     ]
    }
   ],
   "source": [
    "X_train,X_test,y_train,y_test = train_test_split(X,y,random_state=42,test_size=0.25)\n",
    "lr = linear_model.LogisticRegression()\n",
    "model = lr.fit(X_train,y_train)\n",
    "predictions = model.predict(X_test)\n",
    "print(confusion_matrix(y_test, predictions))\n",
    "print(classification_report(y_test, predictions))"
   ]
  },
  {
   "cell_type": "markdown",
   "id": "39c1a047",
   "metadata": {},
   "source": [
    "# 8.Expolatory Data analyis"
   ]
  },
  {
   "cell_type": "markdown",
   "id": "47854585",
   "metadata": {},
   "source": [
    "Insight -the above figure shows the histograms of all the features in the data set which helps us to study the \n",
    "distribution and skewness of the data set"
   ]
  },
  {
   "cell_type": "code",
   "execution_count": 72,
   "id": "cc2891e1",
   "metadata": {},
   "outputs": [
    {
     "data": {
      "text/plain": [
       "array([[<AxesSubplot:title={'center':'T_xacc'}>,\n",
       "        <AxesSubplot:title={'center':'T_yacc'}>,\n",
       "        <AxesSubplot:title={'center':'T_zacc'}>,\n",
       "        <AxesSubplot:title={'center':'T_xgyro'}>,\n",
       "        <AxesSubplot:title={'center':'T_ygyro'}>,\n",
       "        <AxesSubplot:title={'center':'T_zgyro'}>,\n",
       "        <AxesSubplot:title={'center':'T_xmag'}>],\n",
       "       [<AxesSubplot:title={'center':'T_ymag'}>,\n",
       "        <AxesSubplot:title={'center':'T_zmag'}>,\n",
       "        <AxesSubplot:title={'center':'RA_xacc'}>,\n",
       "        <AxesSubplot:title={'center':'RA_yacc'}>,\n",
       "        <AxesSubplot:title={'center':'RA_zacc'}>,\n",
       "        <AxesSubplot:title={'center':'RA_xgyro'}>,\n",
       "        <AxesSubplot:title={'center':'RA_ygyro'}>],\n",
       "       [<AxesSubplot:title={'center':'RA_zgyro'}>,\n",
       "        <AxesSubplot:title={'center':'RA_xmag'}>,\n",
       "        <AxesSubplot:title={'center':'RA_ymag'}>,\n",
       "        <AxesSubplot:title={'center':'RA_zmag'}>,\n",
       "        <AxesSubplot:title={'center':'LA_xacc'}>,\n",
       "        <AxesSubplot:title={'center':'LA_yacc'}>,\n",
       "        <AxesSubplot:title={'center':'LA_zacc'}>],\n",
       "       [<AxesSubplot:title={'center':'LA_xgyro'}>,\n",
       "        <AxesSubplot:title={'center':'LA_ygyro'}>,\n",
       "        <AxesSubplot:title={'center':'LA_zgyro'}>,\n",
       "        <AxesSubplot:title={'center':'LA_xmag'}>,\n",
       "        <AxesSubplot:title={'center':'LA_ymag'}>,\n",
       "        <AxesSubplot:title={'center':'LA_zmag'}>,\n",
       "        <AxesSubplot:title={'center':'RL_xacc'}>],\n",
       "       [<AxesSubplot:title={'center':'RL_yacc'}>,\n",
       "        <AxesSubplot:title={'center':'RL_zacc'}>,\n",
       "        <AxesSubplot:title={'center':'RL_xgyro'}>,\n",
       "        <AxesSubplot:title={'center':'RL_ygyro'}>,\n",
       "        <AxesSubplot:title={'center':'RL_zgyro'}>,\n",
       "        <AxesSubplot:title={'center':'RL_xmag'}>,\n",
       "        <AxesSubplot:title={'center':'RL_ymag'}>],\n",
       "       [<AxesSubplot:title={'center':'RL_zmag'}>,\n",
       "        <AxesSubplot:title={'center':'LL_xacc'}>,\n",
       "        <AxesSubplot:title={'center':'LL_yacc'}>,\n",
       "        <AxesSubplot:title={'center':'LL_zacc'}>,\n",
       "        <AxesSubplot:title={'center':'LL_xgyro'}>,\n",
       "        <AxesSubplot:title={'center':'LL_ygyro'}>,\n",
       "        <AxesSubplot:title={'center':'LL_zgyro'}>],\n",
       "       [<AxesSubplot:title={'center':'LL_xmag'}>,\n",
       "        <AxesSubplot:title={'center':'LL_ymag'}>,\n",
       "        <AxesSubplot:title={'center':'LL_zmag'}>, <AxesSubplot:>,\n",
       "        <AxesSubplot:>, <AxesSubplot:>, <AxesSubplot:>]], dtype=object)"
      ]
     },
     "execution_count": 72,
     "metadata": {},
     "output_type": "execute_result"
    },
    {
     "data": {
      "image/png": "[encoded data removed]",
      "text/plain": [
       "<Figure size 1440x1440 with 49 Axes>"
      ]
     },
     "metadata": {
      "needs_background": "light"
     },
     "output_type": "display_data"
    }
   ],
   "source": [
    "data.hist(figsize=(20,20))"
   ]
  },
  {
   "cell_type": "code",
   "execution_count": 74,
   "id": "956ee701",
   "metadata": {},
   "outputs": [
    {
     "data": {
      "text/plain": [
       "(array([ 1,  2,  3,  4,  5,  6,  7,  8,  9, 10, 11, 12, 13, 14, 15, 16, 17,\n",
       "        18, 19, 20, 21, 22, 23, 24, 25, 26, 27, 28, 29, 30, 31, 32, 33, 34,\n",
       "        35, 36, 37, 38, 39, 40, 41, 42, 43, 44, 45]),\n",
       " [Text(1, 0, 'T_xacc'),\n",
       "  Text(2, 0, 'T_yacc'),\n",
       "  Text(3, 0, 'T_zacc'),\n",
       "  Text(4, 0, 'T_xgyro'),\n",
       "  Text(5, 0, 'T_ygyro'),\n",
       "  Text(6, 0, 'T_zgyro'),\n",
       "  Text(7, 0, 'T_xmag'),\n",
       "  Text(8, 0, 'T_ymag'),\n",
       "  Text(9, 0, 'T_zmag'),\n",
       "  Text(10, 0, 'RA_xacc'),\n",
       "  Text(11, 0, 'RA_yacc'),\n",
       "  Text(12, 0, 'RA_zacc'),\n",
       "  Text(13, 0, 'RA_xgyro'),\n",
       "  Text(14, 0, 'RA_ygyro'),\n",
       "  Text(15, 0, 'RA_zgyro'),\n",
       "  Text(16, 0, 'RA_xmag'),\n",
       "  Text(17, 0, 'RA_ymag'),\n",
       "  Text(18, 0, 'RA_zmag'),\n",
       "  Text(19, 0, 'LA_xacc'),\n",
       "  Text(20, 0, 'LA_yacc'),\n",
       "  Text(21, 0, 'LA_zacc'),\n",
       "  Text(22, 0, 'LA_xgyro'),\n",
       "  Text(23, 0, 'LA_ygyro'),\n",
       "  Text(24, 0, 'LA_zgyro'),\n",
       "  Text(25, 0, 'LA_xmag'),\n",
       "  Text(26, 0, 'LA_ymag'),\n",
       "  Text(27, 0, 'LA_zmag'),\n",
       "  Text(28, 0, 'RL_xacc'),\n",
       "  Text(29, 0, 'RL_yacc'),\n",
       "  Text(30, 0, 'RL_zacc'),\n",
       "  Text(31, 0, 'RL_xgyro'),\n",
       "  Text(32, 0, 'RL_ygyro'),\n",
       "  Text(33, 0, 'RL_zgyro'),\n",
       "  Text(34, 0, 'RL_xmag'),\n",
       "  Text(35, 0, 'RL_ymag'),\n",
       "  Text(36, 0, 'RL_zmag'),\n",
       "  Text(37, 0, 'LL_xacc'),\n",
       "  Text(38, 0, 'LL_yacc'),\n",
       "  Text(39, 0, 'LL_zacc'),\n",
       "  Text(40, 0, 'LL_xgyro'),\n",
       "  Text(41, 0, 'LL_ygyro'),\n",
       "  Text(42, 0, 'LL_zgyro'),\n",
       "  Text(43, 0, 'LL_xmag'),\n",
       "  Text(44, 0, 'LL_ymag'),\n",
       "  Text(45, 0, 'LL_zmag')])"
      ]
     },
     "execution_count": 74,
     "metadata": {},
     "output_type": "execute_result"
    },
    {
     "data": {
      "image/png": "[encoded data removed]",
      "text/plain": [
       "<Figure size 1440x1080 with 1 Axes>"
      ]
     },
     "metadata": {
      "needs_background": "light"
     },
     "output_type": "display_data"
    }
   ],
   "source": [
    "plt.figure(figsize=(20,15))\n",
    "data.boxplot()\n",
    "plt.xticks(rotation=90) "
   ]
  },
  {
   "cell_type": "markdown",
   "id": "6a4f7f65",
   "metadata": {},
   "source": [
    "Insight-The above figure shows all the boxplot od different features of the data which helps us to study the outliers\n",
    "and inter quartile ranges"
   ]
  },
  {
   "cell_type": "code",
   "execution_count": 75,
   "id": "3c7a2f9e",
   "metadata": {},
   "outputs": [
    {
     "name": "stderr",
     "output_type": "stream",
     "text": [
      "C:\\Users\\anoop\\Downloads\\INDU\\lib\\site-packages\\seaborn\\_decorators.py:36: FutureWarning: Pass the following variable as a keyword arg: x. From version 0.12, the only valid positional argument will be `data`, and passing other arguments without an explicit keyword will result in an error or misinterpretation.\n",
      "  warnings.warn(\n"
     ]
    },
    {
     "data": {
      "image/png": "[encoded data removed]",
      "text/plain": [
       "<Figure size 1080x1080 with 1 Axes>"
      ]
     },
     "metadata": {
      "needs_background": "light"
     },
     "output_type": "display_data"
    }
   ],
   "source": [
    "plt.figure(figsize=(15,15))\n",
    "sns.countplot(data['Activity'])\n",
    "plt.xticks(rotation=90)\n",
    "plt.show()"
   ]
  },
  {
   "cell_type": "markdown",
   "id": "1e3a13e4",
   "metadata": {},
   "source": [
    "Insight: Here, we have plotted the count of each 'Activity' and activities sitting,standing and Desending Stairs are \n",
    "    the activities with top three count while running and jumping have the least counts"
   ]
  },
  {
   "cell_type": "markdown",
   "id": "de162778",
   "metadata": {},
   "source": [
    "# 9. Modeling"
   ]
  },
  {
   "cell_type": "markdown",
   "id": "6bd753da",
   "metadata": {},
   "source": [
    "1.LogisticRegression"
   ]
  },
  {
   "cell_type": "code",
   "execution_count": 75,
   "id": "7353f668",
   "metadata": {},
   "outputs": [
    {
     "name": "stderr",
     "output_type": "stream",
     "text": [
      "C:\\Users\\anoop\\Downloads\\INDU\\lib\\site-packages\\sklearn\\linear_model\\_logistic.py:763: ConvergenceWarning: lbfgs failed to converge (status=1):\n",
      "STOP: TOTAL NO. of ITERATIONS REACHED LIMIT.\n",
      "\n",
      "Increase the number of iterations (max_iter) or scale the data as shown in:\n",
      "    https://scikit-learn.org/stable/modules/preprocessing.html\n",
      "Please also refer to the documentation for alternative solver options:\n",
      "    https://scikit-learn.org/stable/modules/linear_model.html#logistic-regression\n",
      "  n_iter_i = _check_optimize_result(\n"
     ]
    },
    {
     "name": "stdout",
     "output_type": "stream",
     "text": [
      "[[1366    0    0    0    0    0    1    0    0    0    0    0    0    0\n",
      "     0    0    6]\n",
      " [   0 1265    0    0    0    0    0    7    0    0    0    0    0    0\n",
      "     0    0    0]\n",
      " [   0    0 1274    0    0    0    0    0    0    0    0    0    0    0\n",
      "     0    0    0]\n",
      " [   0    0    0 1644    0    0    0    0    0    0    0    0    0    0\n",
      "     0    0    0]\n",
      " [   0    0    0    0 1797    0    0    0    1    0    0    0    0    0\n",
      "     0    0    0]\n",
      " [   0    0    0    0    0 1460    0    0    8    0    0    0    0    0\n",
      "     0    0    0]\n",
      " [   0    0    0    0    0    0  273    0    0    0    0    0    0    0\n",
      "     0    0    0]\n",
      " [   3   15    0    0    0    0    2 1753   31    0    0    0    2    4\n",
      "     0    0    3]\n",
      " [   6   10    3    2    6   57    2   23 1055    0    1    1    2    2\n",
      "     0    5    8]\n",
      " [   0    0    0    0    0    0    0    0    0 1294    0    0    0    0\n",
      "     1    0    0]\n",
      " [   0    0    0    0    1    0    0    0    0    0  228    0    0    0\n",
      "    55    7    0]\n",
      " [   0    0    0    0    0    0    0    0    0    0    0 1851    0    0\n",
      "     0    0    0]\n",
      " [   0    0    0    0    0    0    0    0    0    0    0    0 1885    0\n",
      "     0    0    0]\n",
      " [   0    0    0    0    0    0    0    0    0    0    0    0    0 1851\n",
      "     0    0    0]\n",
      " [   0    0    0    0    0    0    0    0    0    0    0    0    0    0\n",
      "  1666    1    0]\n",
      " [   0    0    0    0    0    0    0    0    0    0    0    0    0    0\n",
      "    16 1826    0]\n",
      " [   0    0    0    0    0    0    0    0    0    0    0    0    0    0\n",
      "     0    0 1874]]\n",
      "                                     precision    recall  f1-score   support\n",
      "\n",
      "                   Ascending stairs       0.99      0.99      0.99      1373\n",
      "                   Decending stairs       0.98      0.99      0.99      1272\n",
      "     cycling in horizontal position       1.00      1.00      1.00      1274\n",
      "       cycling in vertical position       1.00      1.00      1.00      1644\n",
      "      exercising on a cross trainer       1.00      1.00      1.00      1798\n",
      "            exercising on a stepper       0.96      0.99      0.98      1468\n",
      "                            jumping       0.98      1.00      0.99       273\n",
      "       moving around in an elevator       0.98      0.97      0.97      1813\n",
      "                 playing basketball       0.96      0.89      0.93      1183\n",
      "                             rowing       1.00      1.00      1.00      1295\n",
      "                  running (8 km/hr)       1.00      0.78      0.88       291\n",
      "                            sitting       1.00      1.00      1.00      1851\n",
      "                           standing       1.00      1.00      1.00      1885\n",
      "            standing in an elevator       1.00      1.00      1.00      1851\n",
      "walking (4 km/h) in 15 deg inclined       0.96      1.00      0.98      1667\n",
      "           walking (4 km/h) in flat       0.99      0.99      0.99      1842\n",
      "           walking in a parking lot       0.99      1.00      1.00      1874\n",
      "\n",
      "                           accuracy                           0.99     24654\n",
      "                          macro avg       0.99      0.98      0.98     24654\n",
      "                       weighted avg       0.99      0.99      0.99     24654\n",
      "\n"
     ]
    }
   ],
   "source": [
    "y = data[\"Activity\"]\n",
    "X = data.drop(['Activity'], axis=1)\n",
    "\n",
    "minMaxScaler = preprocessing.MinMaxScaler(feature_range=(0,1))\n",
    "X = minMaxScaler.fit_transform(X)\n",
    "X = pd.DataFrame(X)\n",
    "X.describe()\n",
    "X_train,X_test,y_train,y_test = train_test_split(X,y,random_state=42,test_size=0.25)\n",
    "lr = linear_model.LogisticRegression()\n",
    "model = lr.fit(X_train,y_train)\n",
    "predictions = model.predict(X_test)\n",
    "print(confusion_matrix(y_test, predictions))\n",
    "print(classification_report(y_test, predictions))"
   ]
  },
  {
   "cell_type": "markdown",
   "id": "cb3900fc",
   "metadata": {},
   "source": [
    "2.Decision Tree"
   ]
  },
  {
   "cell_type": "code",
   "execution_count": 76,
   "id": "9b922ae8",
   "metadata": {},
   "outputs": [
    {
     "name": "stdout",
     "output_type": "stream",
     "text": [
      "[[1366    0    0    0    0    0    1    0    0    0    0    0    0    0\n",
      "     0    0    6]\n",
      " [   0 1265    0    0    0    0    0    7    0    0    0    0    0    0\n",
      "     0    0    0]\n",
      " [   0    0 1274    0    0    0    0    0    0    0    0    0    0    0\n",
      "     0    0    0]\n",
      " [   0    0    0 1644    0    0    0    0    0    0    0    0    0    0\n",
      "     0    0    0]\n",
      " [   0    0    0    0 1797    0    0    0    1    0    0    0    0    0\n",
      "     0    0    0]\n",
      " [   0    0    0    0    0 1460    0    0    8    0    0    0    0    0\n",
      "     0    0    0]\n",
      " [   0    0    0    0    0    0  273    0    0    0    0    0    0    0\n",
      "     0    0    0]\n",
      " [   3   15    0    0    0    0    2 1753   31    0    0    0    2    4\n",
      "     0    0    3]\n",
      " [   6   10    3    2    6   57    2   23 1055    0    1    1    2    2\n",
      "     0    5    8]\n",
      " [   0    0    0    0    0    0    0    0    0 1294    0    0    0    0\n",
      "     1    0    0]\n",
      " [   0    0    0    0    1    0    0    0    0    0  228    0    0    0\n",
      "    55    7    0]\n",
      " [   0    0    0    0    0    0    0    0    0    0    0 1851    0    0\n",
      "     0    0    0]\n",
      " [   0    0    0    0    0    0    0    0    0    0    0    0 1885    0\n",
      "     0    0    0]\n",
      " [   0    0    0    0    0    0    0    0    0    0    0    0    0 1851\n",
      "     0    0    0]\n",
      " [   0    0    0    0    0    0    0    0    0    0    0    0    0    0\n",
      "  1666    1    0]\n",
      " [   0    0    0    0    0    0    0    0    0    0    0    0    0    0\n",
      "    16 1826    0]\n",
      " [   0    0    0    0    0    0    0    0    0    0    0    0    0    0\n",
      "     0    0 1874]]\n",
      "                                     precision    recall  f1-score   support\n",
      "\n",
      "                   Ascending stairs       0.99      0.99      0.99      1373\n",
      "                   Decending stairs       0.98      0.99      0.99      1272\n",
      "     cycling in horizontal position       1.00      1.00      1.00      1274\n",
      "       cycling in vertical position       1.00      1.00      1.00      1644\n",
      "      exercising on a cross trainer       1.00      1.00      1.00      1798\n",
      "            exercising on a stepper       0.96      0.99      0.98      1468\n",
      "                            jumping       0.98      1.00      0.99       273\n",
      "       moving around in an elevator       0.98      0.97      0.97      1813\n",
      "                 playing basketball       0.96      0.89      0.93      1183\n",
      "                             rowing       1.00      1.00      1.00      1295\n",
      "                  running (8 km/hr)       1.00      0.78      0.88       291\n",
      "                            sitting       1.00      1.00      1.00      1851\n",
      "                           standing       1.00      1.00      1.00      1885\n",
      "            standing in an elevator       1.00      1.00      1.00      1851\n",
      "walking (4 km/h) in 15 deg inclined       0.96      1.00      0.98      1667\n",
      "           walking (4 km/h) in flat       0.99      0.99      0.99      1842\n",
      "           walking in a parking lot       0.99      1.00      1.00      1874\n",
      "\n",
      "                           accuracy                           0.99     24654\n",
      "                          macro avg       0.99      0.98      0.98     24654\n",
      "                       weighted avg       0.99      0.99      0.99     24654\n",
      "\n"
     ]
    }
   ],
   "source": [
    "from sklearn.tree import DecisionTreeClassifier\n",
    "dt_model=DecisionTreeClassifier()\n",
    "dt_model.fit(X_train,y_train)\n",
    "predictions = model.predict(X_test)\n",
    "print(confusion_matrix(y_test, predictions))\n",
    "print(classification_report(y_test, predictions))"
   ]
  },
  {
   "cell_type": "markdown",
   "id": "a7189851",
   "metadata": {},
   "source": [
    "3.Random Forest"
   ]
  },
  {
   "cell_type": "code",
   "execution_count": 77,
   "id": "5448ef33",
   "metadata": {},
   "outputs": [
    {
     "name": "stdout",
     "output_type": "stream",
     "text": [
      "[[1366    0    0    0    0    0    1    0    0    0    0    0    0    0\n",
      "     0    0    6]\n",
      " [   0 1265    0    0    0    0    0    7    0    0    0    0    0    0\n",
      "     0    0    0]\n",
      " [   0    0 1274    0    0    0    0    0    0    0    0    0    0    0\n",
      "     0    0    0]\n",
      " [   0    0    0 1644    0    0    0    0    0    0    0    0    0    0\n",
      "     0    0    0]\n",
      " [   0    0    0    0 1797    0    0    0    1    0    0    0    0    0\n",
      "     0    0    0]\n",
      " [   0    0    0    0    0 1460    0    0    8    0    0    0    0    0\n",
      "     0    0    0]\n",
      " [   0    0    0    0    0    0  273    0    0    0    0    0    0    0\n",
      "     0    0    0]\n",
      " [   3   15    0    0    0    0    2 1753   31    0    0    0    2    4\n",
      "     0    0    3]\n",
      " [   6   10    3    2    6   57    2   23 1055    0    1    1    2    2\n",
      "     0    5    8]\n",
      " [   0    0    0    0    0    0    0    0    0 1294    0    0    0    0\n",
      "     1    0    0]\n",
      " [   0    0    0    0    1    0    0    0    0    0  228    0    0    0\n",
      "    55    7    0]\n",
      " [   0    0    0    0    0    0    0    0    0    0    0 1851    0    0\n",
      "     0    0    0]\n",
      " [   0    0    0    0    0    0    0    0    0    0    0    0 1885    0\n",
      "     0    0    0]\n",
      " [   0    0    0    0    0    0    0    0    0    0    0    0    0 1851\n",
      "     0    0    0]\n",
      " [   0    0    0    0    0    0    0    0    0    0    0    0    0    0\n",
      "  1666    1    0]\n",
      " [   0    0    0    0    0    0    0    0    0    0    0    0    0    0\n",
      "    16 1826    0]\n",
      " [   0    0    0    0    0    0    0    0    0    0    0    0    0    0\n",
      "     0    0 1874]]\n",
      "                                     precision    recall  f1-score   support\n",
      "\n",
      "                   Ascending stairs       0.99      0.99      0.99      1373\n",
      "                   Decending stairs       0.98      0.99      0.99      1272\n",
      "     cycling in horizontal position       1.00      1.00      1.00      1274\n",
      "       cycling in vertical position       1.00      1.00      1.00      1644\n",
      "      exercising on a cross trainer       1.00      1.00      1.00      1798\n",
      "            exercising on a stepper       0.96      0.99      0.98      1468\n",
      "                            jumping       0.98      1.00      0.99       273\n",
      "       moving around in an elevator       0.98      0.97      0.97      1813\n",
      "                 playing basketball       0.96      0.89      0.93      1183\n",
      "                             rowing       1.00      1.00      1.00      1295\n",
      "                  running (8 km/hr)       1.00      0.78      0.88       291\n",
      "                            sitting       1.00      1.00      1.00      1851\n",
      "                           standing       1.00      1.00      1.00      1885\n",
      "            standing in an elevator       1.00      1.00      1.00      1851\n",
      "walking (4 km/h) in 15 deg inclined       0.96      1.00      0.98      1667\n",
      "           walking (4 km/h) in flat       0.99      0.99      0.99      1842\n",
      "           walking in a parking lot       0.99      1.00      1.00      1874\n",
      "\n",
      "                           accuracy                           0.99     24654\n",
      "                          macro avg       0.99      0.98      0.98     24654\n",
      "                       weighted avg       0.99      0.99      0.99     24654\n",
      "\n"
     ]
    }
   ],
   "source": [
    "from sklearn.ensemble import RandomForestClassifier\n",
    "rf=RandomForestClassifier()\n",
    "rf.fit(X_train,y_train)\n",
    "predictions = model.predict(X_test)\n",
    "print(confusion_matrix(y_test, predictions))\n",
    "print(classification_report(y_test, predictions))"
   ]
  },
  {
   "cell_type": "code",
   "execution_count": 78,
   "id": "119d9b7d",
   "metadata": {},
   "outputs": [],
   "source": [
    "#evaluate the perormance of the model\n",
    "from sklearn.metrics import f1_score,accuracy_score"
   ]
  },
  {
   "cell_type": "markdown",
   "id": "5129d2c2",
   "metadata": {},
   "source": [
    "# Fine Tuning of Data"
   ]
  },
  {
   "cell_type": "code",
   "execution_count": 79,
   "id": "929c44f7",
   "metadata": {},
   "outputs": [
    {
     "data": {
      "text/plain": [
       "RandomForestClassifier()"
      ]
     },
     "execution_count": 79,
     "metadata": {},
     "output_type": "execute_result"
    }
   ],
   "source": [
    "#Fine tuning of hyper parameters\n",
    "rf.fit(X_train,y_train)"
   ]
  },
  {
   "cell_type": "code",
   "execution_count": 80,
   "id": "29ad6b62",
   "metadata": {},
   "outputs": [],
   "source": [
    "rft=RandomForestClassifier(n_estimators=500,max_depth=10,random_state=42,criterion='entropy')"
   ]
  },
  {
   "cell_type": "code",
   "execution_count": 81,
   "id": "a177c936",
   "metadata": {},
   "outputs": [
    {
     "data": {
      "text/plain": [
       "RandomForestClassifier(criterion='entropy', max_depth=10, n_estimators=500,\n",
       "                       random_state=42)"
      ]
     },
     "execution_count": 81,
     "metadata": {},
     "output_type": "execute_result"
    }
   ],
   "source": [
    "rft.fit(X_train,y_train)"
   ]
  },
  {
   "cell_type": "code",
   "execution_count": 83,
   "id": "b8808ae6",
   "metadata": {},
   "outputs": [
    {
     "data": {
      "text/plain": [
       "0.9991482112436116"
      ]
     },
     "execution_count": 83,
     "metadata": {},
     "output_type": "execute_result"
    }
   ],
   "source": [
    "predictions=rft.predict(X_test)\n",
    "accuracy_score(y_test,predictions)"
   ]
  },
  {
   "cell_type": "markdown",
   "id": "fdfbeb75",
   "metadata": {},
   "source": [
    "Insighr- Fine tuning has improved the efficiency of the model"
   ]
  },
  {
   "cell_type": "code",
   "execution_count": null,
   "id": "8ac19700",
   "metadata": {},
   "outputs": [],
   "source": []
  },
  {
   "cell_type": "markdown",
   "id": "524edfb4",
   "metadata": {},
   "source": [
    "4.SVM"
   ]
  },
  {
   "cell_type": "code",
   "execution_count": 84,
   "id": "70b9b2fb",
   "metadata": {},
   "outputs": [],
   "source": [
    "from sklearn.svm import SVC"
   ]
  },
  {
   "cell_type": "code",
   "execution_count": 85,
   "id": "6186169b",
   "metadata": {},
   "outputs": [
    {
     "name": "stdout",
     "output_type": "stream",
     "text": [
      "[[1369    0    0    0    0    0    0    1    1    0    0    0    0    1\n",
      "     0    0    1]\n",
      " [   0 1264    2    0    0    2    0    4    0    0    0    0    0    0\n",
      "     0    0    0]\n",
      " [   0    0 1268    2    3    0    0    1    0    0    0    0    0    0\n",
      "     0    0    0]\n",
      " [   0    0    0 1644    0    0    0    0    0    0    0    0    0    0\n",
      "     0    0    0]\n",
      " [   0    0    0    0 1786    3    0    0    6    0    1    0    0    0\n",
      "     2    0    0]\n",
      " [   0    0    0    0    0 1449    0    0   18    0    0    0    0    0\n",
      "     0    0    1]\n",
      " [   2    0    0    0    0    0  271    0    0    0    0    0    0    0\n",
      "     0    0    0]\n",
      " [   2    3    0    0    0    0    1 1784   10    0    1    0    0    9\n",
      "     0    0    3]\n",
      " [   2    5    0    4    2   20    1    5 1136    0    4    1    0    0\n",
      "     0    0    3]\n",
      " [   0    0    0    0    0    0    0    0    0 1295    0    0    0    0\n",
      "     0    0    0]\n",
      " [   1    0    0    0    0    0    0    2    3    0  281    0    0    0\n",
      "     2    2    0]\n",
      " [   0    0    0    0    0    0    0    0    0    0    0 1851    0    0\n",
      "     0    0    0]\n",
      " [   0    0    0    0    0    0    0    0    0    0    0    0 1885    0\n",
      "     0    0    0]\n",
      " [   0    0    0    1    0    0    0    2    0    0    0    0    0 1848\n",
      "     0    0    0]\n",
      " [   0    0    0    0    2    1    0    2    3    0    1    0    0    0\n",
      "  1653    5    0]\n",
      " [   0    0    0    0    0    0    0    0    0    0    0    0    0    0\n",
      "     2 1840    0]\n",
      " [   4    0    0    0    0    0    0    1    4    0    0    0    0    0\n",
      "     0    0 1865]]\n",
      "                                     precision    recall  f1-score   support\n",
      "\n",
      "                   Ascending stairs       0.99      1.00      0.99      1373\n",
      "                   Decending stairs       0.99      0.99      0.99      1272\n",
      "     cycling in horizontal position       1.00      1.00      1.00      1274\n",
      "       cycling in vertical position       1.00      1.00      1.00      1644\n",
      "      exercising on a cross trainer       1.00      0.99      0.99      1798\n",
      "            exercising on a stepper       0.98      0.99      0.98      1468\n",
      "                            jumping       0.99      0.99      0.99       273\n",
      "       moving around in an elevator       0.99      0.98      0.99      1813\n",
      "                 playing basketball       0.96      0.96      0.96      1183\n",
      "                             rowing       1.00      1.00      1.00      1295\n",
      "                  running (8 km/hr)       0.98      0.97      0.97       291\n",
      "                            sitting       1.00      1.00      1.00      1851\n",
      "                           standing       1.00      1.00      1.00      1885\n",
      "            standing in an elevator       0.99      1.00      1.00      1851\n",
      "walking (4 km/h) in 15 deg inclined       1.00      0.99      0.99      1667\n",
      "           walking (4 km/h) in flat       1.00      1.00      1.00      1842\n",
      "           walking in a parking lot       1.00      1.00      1.00      1874\n",
      "\n",
      "                           accuracy                           0.99     24654\n",
      "                          macro avg       0.99      0.99      0.99     24654\n",
      "                       weighted avg       0.99      0.99      0.99     24654\n",
      "\n"
     ]
    }
   ],
   "source": [
    "svm_linear=SVC(kernel='linear')\n",
    "svm_linear.fit(X_train,y_train)\n",
    "predictions=dt_model.predict(X_test)\n",
    "print(confusion_matrix(y_test,predictions))\n",
    "print(classification_report(y_test,predictions))"
   ]
  },
  {
   "cell_type": "markdown",
   "id": "4b69f84a",
   "metadata": {},
   "source": [
    "##### 5.KNN"
   ]
  },
  {
   "cell_type": "code",
   "execution_count": 86,
   "id": "5450a968",
   "metadata": {},
   "outputs": [],
   "source": [
    "from sklearn.neighbors import KNeighborsClassifier\n"
   ]
  },
  {
   "cell_type": "code",
   "execution_count": 87,
   "id": "212a90b6",
   "metadata": {},
   "outputs": [
    {
     "data": {
      "text/plain": [
       "[0.9982964224872232,\n",
       " 0.997363510992131,\n",
       " 0.9974040723614829,\n",
       " 0.9962277926502798,\n",
       " 0.9962683540196317,\n",
       " 0.9954571266325951,\n",
       " 0.9956193721100024,\n",
       " 0.9948892674616695,\n",
       " 0.9950920743084286,\n",
       " 0.9943214082907439,\n",
       " 0.9941997241826884,\n",
       " 0.9935507422730592]"
      ]
     },
     "execution_count": 87,
     "metadata": {},
     "output_type": "execute_result"
    }
   ],
   "source": [
    "acc_values = []\n",
    "neighbors = np.arange(3,15)\n",
    "for k in neighbors:\n",
    "    kncdf = KNeighborsClassifier(n_neighbors=k,metric=\"minkowski\")\n",
    "    model = kncdf.fit(X_train,y_train)\n",
    "    predictions = model.predict(X_test)\n",
    "    #confusion_matrix(y_test, predictions)\n",
    "    acc_values.append(accuracy_score(y_test, predictions))\n",
    "    \n",
    "acc_values"
   ]
  },
  {
   "cell_type": "code",
   "execution_count": 88,
   "id": "b3d1c588",
   "metadata": {},
   "outputs": [
    {
     "data": {
      "text/plain": [
       "Text(0, 0.5, 'Accuracy')"
      ]
     },
     "execution_count": 88,
     "metadata": {},
     "output_type": "execute_result"
    },
    {
     "data": {
      "image/png": "[encoded data removed]",
      "text/plain": [
       "<Figure size 432x288 with 1 Axes>"
      ]
     },
     "metadata": {
      "needs_background": "light"
     },
     "output_type": "display_data"
    }
   ],
   "source": [
    "plt.plot(neighbors,acc_values,'o-')\n",
    "plt.xlabel(\"K-value\")\n",
    "plt.ylabel(\"Accuracy\")"
   ]
  },
  {
   "cell_type": "markdown",
   "id": "ed33ad7c",
   "metadata": {},
   "source": [
    "Insight-all the above model have high efficiency and among these models Random Forest after fine tuning shows highest \n",
    "efficiency"
   ]
  },
  {
   "cell_type": "code",
   "execution_count": null,
   "id": "5c7102e4",
   "metadata": {},
   "outputs": [],
   "source": []
  }
 ],
 "metadata": {
  "kernelspec": {
   "display_name": "Python 3",
   "language": "python",
   "name": "python3"
  },
  "language_info": {
   "codemirror_mode": {
    "name": "ipython",
    "version": 3
   },
   "file_extension": ".py",
   "mimetype": "text/x-python",
   "name": "python",
   "nbconvert_exporter": "python",
   "pygments_lexer": "ipython3",
   "version": "3.8.8"
  }
 },
 "nbformat": 4,
 "nbformat_minor": 5
}
